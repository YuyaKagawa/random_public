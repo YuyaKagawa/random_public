{
 "cells": [
  {
   "cell_type": "markdown",
   "metadata": {},
   "source": [
    "様々な検定手法を一から実装したノートブックです。  \n",
    "流れは下のQiitaの記事に沿っています。  \n",
    "・【Python】2群間での統計検定手法まとめ - Qiita, https://qiita.com/suaaa7/items/745ac1ca0a8d6753cf60  \n",
    "また、説明は下の文献を参考にしています。  \n",
    "・データ科学便覧 理論関連事項, https://data-science.gr.jp/theory.html#tst\n"
   ]
  },
  {
   "cell_type": "markdown",
   "metadata": {},
   "source": [
    "使うライブラリは下の通りです。"
   ]
  },
  {
   "cell_type": "code",
   "execution_count": 52,
   "metadata": {
    "ExecuteTime": {
     "end_time": "2021-04-06T15:03:38.898881Z",
     "start_time": "2021-04-06T15:03:38.366659Z"
    }
   },
   "outputs": [],
   "source": [
    "import pandas as pd # データセットを扱う\n",
    "import numpy as np # 数値計算\n",
    "from scipy import stats # 検定\n",
    "import math # 数学的な計算\n",
    "\n",
    "import matplotlib.pyplot as plt"
   ]
  },
  {
   "cell_type": "markdown",
   "metadata": {},
   "source": [
    "# 対応のあるt検定"
   ]
  },
  {
   "cell_type": "markdown",
   "metadata": {},
   "source": [
    "・参考: 対応のあるt検定, https://data-science.gr.jp/theory/tst_paired_t_test.html"
   ]
  },
  {
   "cell_type": "markdown",
   "metadata": {},
   "source": [
    "2つのデータセット$X$,$Y$の2つがあります。  \n",
    "この$X=(x_1,x_2,...x_N)$と$Y=(y_1,y_2,...,y_N)$の間に対応がある、と言える場合の検定手法です。  \n",
    "「対応がある」ことの例としては上の文献を参照してください。  \n",
    "これらの値に差があるかどうかの検定をします。  \n",
    "求める統計量は、式としては下の通りです。  \n",
    "$$T = \\frac{\\bar{d} - \\mu_d}{U_d  / \\sqrt{N}}$$\n",
    "ここで、\n",
    "<ul>\n",
    "    <li>$\\bar{d}$: データの差$x_1-y_1$,$x_2-y_2$,...,$x_N-y_N$の標本平均値</li>\n",
    "    <li>$\\mu_d$: データの差の母平均</li>\n",
    "    <li>$U_d$: データの差の不偏標準偏差</li>\n",
    "    <li>$N$: データの数</li>\n",
    "</ul>\n",
    "です。"
   ]
  },
  {
   "cell_type": "markdown",
   "metadata": {},
   "source": [
    "## データセットの用意"
   ]
  },
  {
   "cell_type": "markdown",
   "metadata": {},
   "source": [
    "データセットは、下のサイトを参考にし、同じ値を使います。  \n",
    "・「24-5. 対応のある2標本t検定 | 統計学の時間 | 統計WEB」, https://bellcurve.jp/statistics/course/9453.html"
   ]
  },
  {
   "cell_type": "code",
   "execution_count": 2,
   "metadata": {
    "ExecuteTime": {
     "end_time": "2021-04-06T13:55:49.841730Z",
     "start_time": "2021-04-06T13:55:49.822725Z"
    }
   },
   "outputs": [
    {
     "name": "stdout",
     "output_type": "stream",
     "text": [
      "D1.shape =  (5, 3)\n"
     ]
    },
    {
     "data": {
      "text/html": [
       "<div>\n",
       "<style scoped>\n",
       "    .dataframe tbody tr th:only-of-type {\n",
       "        vertical-align: middle;\n",
       "    }\n",
       "\n",
       "    .dataframe tbody tr th {\n",
       "        vertical-align: top;\n",
       "    }\n",
       "\n",
       "    .dataframe thead th {\n",
       "        text-align: right;\n",
       "    }\n",
       "</style>\n",
       "<table border=\"1\" class=\"dataframe\">\n",
       "  <thead>\n",
       "    <tr style=\"text-align: right;\">\n",
       "      <th></th>\n",
       "      <th>No.</th>\n",
       "      <th>bp_before</th>\n",
       "      <th>bp_after</th>\n",
       "    </tr>\n",
       "  </thead>\n",
       "  <tbody>\n",
       "    <tr>\n",
       "      <th>0</th>\n",
       "      <td>1</td>\n",
       "      <td>180</td>\n",
       "      <td>150</td>\n",
       "    </tr>\n",
       "    <tr>\n",
       "      <th>1</th>\n",
       "      <td>2</td>\n",
       "      <td>130</td>\n",
       "      <td>135</td>\n",
       "    </tr>\n",
       "    <tr>\n",
       "      <th>2</th>\n",
       "      <td>3</td>\n",
       "      <td>165</td>\n",
       "      <td>145</td>\n",
       "    </tr>\n",
       "    <tr>\n",
       "      <th>3</th>\n",
       "      <td>4</td>\n",
       "      <td>155</td>\n",
       "      <td>150</td>\n",
       "    </tr>\n",
       "    <tr>\n",
       "      <th>4</th>\n",
       "      <td>5</td>\n",
       "      <td>140</td>\n",
       "      <td>140</td>\n",
       "    </tr>\n",
       "  </tbody>\n",
       "</table>\n",
       "</div>"
      ],
      "text/plain": [
       "   No.  bp_before  bp_after\n",
       "0    1        180       150\n",
       "1    2        130       135\n",
       "2    3        165       145\n",
       "3    4        155       150\n",
       "4    5        140       140"
      ]
     },
     "execution_count": 2,
     "metadata": {},
     "output_type": "execute_result"
    }
   ],
   "source": [
    "D1 = pd.DataFrame(columns=[\"No.\",\"bp_before\",\"bp_after\"],\n",
    "                  data=[[1,180,150],[2,130,135],[3,165,145],[4,155,150],[5,140,140]]\n",
    "                 ) # データセットをデータフレームに用意\n",
    "print(\"D1.shape = \",D1.shape)\n",
    "D1"
   ]
  },
  {
   "cell_type": "markdown",
   "metadata": {},
   "source": [
    "3つ項目がありますが、今回利用するのは\"bp_before\"、\"bp_after\"の2つです。  \n",
    "それぞれ介入前の血圧値、介入後の血圧値です。  "
   ]
  },
  {
   "cell_type": "markdown",
   "metadata": {},
   "source": [
    "## 統計量の算出"
   ]
  },
  {
   "cell_type": "markdown",
   "metadata": {},
   "source": [
    "それでは統計量$T$を算出しましょう。  \n",
    "検定を使った仮説として、「2群の母平均に差がない」という仮説を立てます。  \n",
    "そこで、「$\\mu_d=0$」としたときの$T$を求めます。  \n",
    "この仮説が正しいと仮定したとき、$T$が自由度$N-1$の、平均0、不偏標準偏差$U_d$（不偏分散$(U_d)^2$）のt分布に従うことを利用します。  \n",
    "自由度については下の文献が参考になります。  \n",
    "必要な値として差の標本平均値、差の不偏標準偏差とデータ数があります。  \n",
    "これら全て上のデータから求められます。\n",
    "\n",
    "参考:  \n",
    "・「20-1. 標本とt分布 | 統計学の時間 | 統計WEB」, https://bellcurve.jp/statistics/course/8968.html  \n",
    "・「自由度 | 統計学の時間 | 統計WEB」, https://bellcurve.jp/statistics/course/14989.html\n",
    "・「対応のあるｔ検定 :: 株式会社アイスタット｜統計分析研究所」, https://istat.co.jp/sk_commentary/t-test/paired_t-test"
   ]
  },
  {
   "cell_type": "code",
   "execution_count": 19,
   "metadata": {
    "ExecuteTime": {
     "end_time": "2021-04-06T14:46:33.415644Z",
     "start_time": "2021-04-06T14:46:33.398641Z"
    }
   },
   "outputs": [
    {
     "name": "stdout",
     "output_type": "stream",
     "text": [
      "d.values[:] =  [30 -5 20  5  0]\n",
      "d_mean =  10.0\n",
      "n =  5\n",
      "d_std =  18.221724671391563\n",
      "T =  1.2271439821557928\n"
     ]
    }
   ],
   "source": [
    "### 式の右辺\n",
    "d = D1[\"bp_before\"]-D1[\"bp_after\"] # 差\n",
    "d_mean = d.mean() # 差の平均値\n",
    "n = D1.shape[0] # データ数\n",
    "d_std = n/(n-1) * d.std() # 差の不偏標準偏差\n",
    "\n",
    "print(\"d.values[:] = \",d.values[:])\n",
    "print(\"d_mean = \",d_mean)\n",
    "print(\"n = \",n)\n",
    "print(\"d_std = \",d_std)\n",
    "\n",
    "T = d_mean/(d_std/math.sqrt(n)) # 統計量\n",
    "\n",
    "print(\"T = \",T)"
   ]
  },
  {
   "cell_type": "markdown",
   "metadata": {},
   "source": [
    "## t分布の図示"
   ]
  },
  {
   "cell_type": "markdown",
   "metadata": {},
   "source": [
    "それでは上記で求めた統計量$T$が、t分布のどの部分に属するかを見ましょう。  \n",
    "有意水準5%で検定することを考えます。  \n",
    "\n",
    "パラメータとして自由度$k$を伴う、t分布の確率密度関数は下の式で表されます。  \n",
    "$$f(x|k)=\\frac{\\Gamma{(\\frac{k+1}{2})}}{\\sqrt{k\\pi}\\cdot\\Gamma{(\\frac{k}{2})}\\cdot(1+\\frac{x^2}{k})^{\\frac{k+1}{2}}}$$\n",
    "ここで$\\Gamma$はガンマ関数で、階乗を自然数以外にも一般化しているものです。  \n",
    "任意の正の実数$\\alpha$、任意の自然数$n$について、\n",
    "$$\\Gamma{(\\alpha)}=\\int^{\\infty}_{0}t^{\\alpha-1}e^{-t}dt$$\n",
    "$$\\Gamma{(\\frac{1}{2})}=\\sqrt{\\pi}$$\n",
    "$$\\Gamma{(n)}=(n-1)!$$\n",
    "です。  \n",
    "今回は、上のt分布の式から読み取れるように、任意の正の実数について扱いたいです。  \n",
    "ただ、積分があるため、コードに実装することができません。  \n",
    "そこで今回は、以下の漸近形を実装します。  \n",
    "$$\\Gamma{(\\alpha)}\\sim\\sqrt{\\frac{2\\pi}{\\alpha}}(\\frac{\\alpha}{e})^\\alpha$$\n",
    "\n",
    "\n",
    "参考:  \n",
    "・「23-5. 検定統計量と棄却域・採択域 | 統計学の時間 | 統計WEB」, https://bellcurve.jp/statistics/course/9317.html  \n",
    "・「t分布」, https://data-science.gr.jp/theory/tpd_t_distribution.html  \n",
    "・「ガンマ関数の漸近展開とスターリングの公式」, http://www.eng.niigata-u.ac.jp/~nomoto/13.html"
   ]
  },
  {
   "cell_type": "markdown",
   "metadata": {},
   "source": [
    "ガンマ関数とt分布の確率密度関数を求める関数を下に用意します。"
   ]
  },
  {
   "cell_type": "code",
   "execution_count": 31,
   "metadata": {
    "ExecuteTime": {
     "end_time": "2021-04-06T14:57:46.514266Z",
     "start_time": "2021-04-06T14:57:46.506264Z"
    }
   },
   "outputs": [],
   "source": [
    "def gamma(alpha):\n",
    "    \"\"\"\n",
    "    ガンマ関数\n",
    "    \"\"\"\n",
    "    \n",
    "    return math.sqrt(2*math.pi/alpha)*((alpha/math.e)**alpha)\n",
    "\n",
    "def t(x,k):\n",
    "    \"\"\"\n",
    "    t分布の確率密度関数\n",
    "    \n",
    "    入力:\n",
    "    x: 変数\n",
    "    k: 自由度\n",
    "    \"\"\"\n",
    "    \n",
    "    num = gamma((k+1)/2)\n",
    "    den = math.sqrt(k*math.pi)*gamma(k/2)*((1+((x**2)/k))**(((k+1)/2)))\n",
    "    \n",
    "    return num/den"
   ]
  },
  {
   "cell_type": "markdown",
   "metadata": {},
   "source": [
    "まず、自由度4のt分布を図示してみましょう。  \n",
    "-10から+10まで0.01刻みで変化させていった数値列$X$を用意します。  \n",
    "そしてそれを変数として入力したときのt分布確率密度関数の値の列$Y$を用意します。"
   ]
  },
  {
   "cell_type": "code",
   "execution_count": 53,
   "metadata": {
    "ExecuteTime": {
     "end_time": "2021-04-06T15:04:21.901762Z",
     "start_time": "2021-04-06T15:04:21.891243Z"
    }
   },
   "outputs": [],
   "source": [
    "X = np.arange(-10.00,10.01,0.01) # [-10.00,+10.00]の範囲で0.01刻み\n",
    "Y = t(X,k=4) # 自由度4のt分布"
   ]
  },
  {
   "cell_type": "markdown",
   "metadata": {},
   "source": [
    "それでは$X$を横軸、$Y$を縦軸にした図を描画します。  \n",
    "上で求めた統計量$T$のところに線を引きます。"
   ]
  },
  {
   "cell_type": "code",
   "execution_count": 70,
   "metadata": {
    "ExecuteTime": {
     "end_time": "2021-04-06T15:20:26.359671Z",
     "start_time": "2021-04-06T15:20:26.235191Z"
    }
   },
   "outputs": [
    {
     "data": {
      "image/png": "[encoded data removed]",
      "text/plain": [
       "<Figure size 432x288 with 1 Axes>"
      ]
     },
     "metadata": {
      "needs_background": "light"
     },
     "output_type": "display_data"
    }
   ],
   "source": [
    "plt.title(\"t distribution with degree of freedom = 4\")\n",
    "plt.plot(X,Y)\n",
    "plt.vlines(T,0.0,Y.max(),colors=\"black\")\n",
    "plt.fill_between(X[X>T],0,Y[X>T],color=\"darkblue\")\n",
    "plt.xticks(np.arange(-10.00,10.01,1.0)) # x軸の目盛り\n",
    "plt.show()"
   ]
  },
  {
   "cell_type": "markdown",
   "metadata": {},
   "source": [
    "今回は有意水準5%を考えているので、統計量$T$以上の部分の確率密度関数の累積値が、全体の累積値の割合で0.025よりも小さい場合、仮説は棄却される、とします。  \n",
    "面積でみると、上のグラフの濃い青色の部分の面積の割合が0.025よりも小さいかどうかという問題です。  \n",
    "本来は積分して面積を算出しますが、ここでは用意した確率密度関数値の数列$Y$を使い、下のように求めます。  \n",
    "なおここでは$Y$の長さは2,001としています（-10.00-+10.00の範囲を0.01刻み）。  \n",
    "$$求める割合 \\simeq \\frac{\\Sigma_{i=argmin_i (Y_i>=T)}^{2001}Y_i}{\\Sigma_{i=0}^{2001}Y_i}$$\n",
    "この割合がp値に相当します。"
   ]
  },
  {
   "cell_type": "code",
   "execution_count": 77,
   "metadata": {
    "ExecuteTime": {
     "end_time": "2021-04-08T02:53:13.366893Z",
     "start_time": "2021-04-08T02:53:13.354891Z"
    }
   },
   "outputs": [
    {
     "name": "stdout",
     "output_type": "stream",
     "text": [
      "p値 = 0.144\n"
     ]
    }
   ],
   "source": [
    "pv = Y[X>=T].sum()/Y.sum() # p値\n",
    "print(\"p値 = {:.3f}\".format(pv))"
   ]
  },
  {
   "cell_type": "markdown",
   "metadata": {},
   "source": [
    "今回はp値が0.144なので、仮説は有意水準5%で棄却できず、仮説が正しいことが示唆されました。"
   ]
  },
  {
   "cell_type": "markdown",
   "metadata": {},
   "source": [
    "# Studentのt検定"
   ]
  },
  {
   "cell_type": "code",
   "execution_count": null,
   "metadata": {},
   "outputs": [],
   "source": []
  },
  {
   "cell_type": "code",
   "execution_count": null,
   "metadata": {},
   "outputs": [],
   "source": []
  },
  {
   "cell_type": "code",
   "execution_count": null,
   "metadata": {},
   "outputs": [],
   "source": []
  },
  {
   "cell_type": "code",
   "execution_count": null,
   "metadata": {},
   "outputs": [],
   "source": []
  },
  {
   "cell_type": "code",
   "execution_count": null,
   "metadata": {},
   "outputs": [],
   "source": []
  },
  {
   "cell_type": "code",
   "execution_count": null,
   "metadata": {},
   "outputs": [],
   "source": []
  },
  {
   "cell_type": "code",
   "execution_count": null,
   "metadata": {},
   "outputs": [],
   "source": []
  },
  {
   "cell_type": "code",
   "execution_count": null,
   "metadata": {},
   "outputs": [],
   "source": []
  },
  {
   "cell_type": "markdown",
   "metadata": {},
   "source": [
    "# Welchのt検定"
   ]
  },
  {
   "cell_type": "code",
   "execution_count": null,
   "metadata": {},
   "outputs": [],
   "source": []
  },
  {
   "cell_type": "code",
   "execution_count": null,
   "metadata": {},
   "outputs": [],
   "source": []
  },
  {
   "cell_type": "code",
   "execution_count": null,
   "metadata": {},
   "outputs": [],
   "source": []
  },
  {
   "cell_type": "code",
   "execution_count": null,
   "metadata": {},
   "outputs": [],
   "source": []
  },
  {
   "cell_type": "code",
   "execution_count": null,
   "metadata": {},
   "outputs": [],
   "source": []
  },
  {
   "cell_type": "code",
   "execution_count": null,
   "metadata": {},
   "outputs": [],
   "source": []
  },
  {
   "cell_type": "code",
   "execution_count": null,
   "metadata": {},
   "outputs": [],
   "source": []
  },
  {
   "cell_type": "markdown",
   "metadata": {},
   "source": [
    "# Mann-WhitneyのU検定（Wilcoxonの順位和検定）"
   ]
  },
  {
   "cell_type": "code",
   "execution_count": null,
   "metadata": {},
   "outputs": [],
   "source": []
  },
  {
   "cell_type": "code",
   "execution_count": null,
   "metadata": {},
   "outputs": [],
   "source": []
  },
  {
   "cell_type": "code",
   "execution_count": null,
   "metadata": {},
   "outputs": [],
   "source": []
  },
  {
   "cell_type": "markdown",
   "metadata": {},
   "source": [
    "# Wilcoxonの符号順位和検定"
   ]
  },
  {
   "cell_type": "code",
   "execution_count": null,
   "metadata": {},
   "outputs": [],
   "source": []
  },
  {
   "cell_type": "code",
   "execution_count": null,
   "metadata": {},
   "outputs": [],
   "source": []
  },
  {
   "cell_type": "code",
   "execution_count": null,
   "metadata": {},
   "outputs": [],
   "source": []
  },
  {
   "cell_type": "code",
   "execution_count": null,
   "metadata": {},
   "outputs": [],
   "source": []
  },
  {
   "cell_type": "markdown",
   "metadata": {},
   "source": [
    "# 備考"
   ]
  },
  {
   "cell_type": "markdown",
   "metadata": {},
   "source": [
    "対応のあるt検定において、下のデータセットを使おうとしましたが、二次配布などの権利が怪しかったので、やめました。  \n",
    "\n",
    "ここで使うデータセットは、下で紹介されている、フィクションの、介入前後の血圧の値のデータです。  \n",
    "Stata（統合型統計ソフトウェア？）に含まれているもので、下の記事の著者が公開しているものです。  \n",
    "\n",
    "参考: Paired Samples t-test – Python for Data Science, https://pythonfordatascienceorg.wordpress.com/paired-samples-t-test-python/#data-used  \n",
    "データセット: Data-sets/blood_pressure.csv at master · Opensourcefordatascience/Data-sets, https://github.com/Opensourcefordatascience/Data-sets/blob/master/blood_pressure.csv\n"
   ]
  },
  {
   "cell_type": "code",
   "execution_count": null,
   "metadata": {},
   "outputs": [],
   "source": []
  },
  {
   "cell_type": "code",
   "execution_count": null,
   "metadata": {},
   "outputs": [],
   "source": []
  }
 ],
 "metadata": {
  "kernelspec": {
   "display_name": "Python 3",
   "language": "python",
   "name": "python3"
  },
  "language_info": {
   "codemirror_mode": {
    "name": "ipython",
    "version": 3
   },
   "file_extension": ".py",
   "mimetype": "text/x-python",
   "name": "python",
   "nbconvert_exporter": "python",
   "pygments_lexer": "ipython3",
   "version": "3.6.8"
  },
  "toc": {
   "base_numbering": 1,
   "nav_menu": {},
   "number_sections": true,
   "sideBar": true,
   "skip_h1_title": false,
   "title_cell": "Table of Contents",
   "title_sidebar": "Contents",
   "toc_cell": false,
   "toc_position": {},
   "toc_section_display": true,
   "toc_window_display": false
  }
 },
 "nbformat": 4,
 "nbformat_minor": 4
}
