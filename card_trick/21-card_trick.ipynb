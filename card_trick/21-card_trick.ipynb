{
 "cells": [
  {
   "cell_type": "markdown",
   "metadata": {},
   "source": [
    "トランプマジックを実装します。  \n",
    "プログラムの流れとしては以下の通りです。  \n",
    "<ol>\n",
    "    <li>52枚のカードから21枚をランダムに選択します。</li>\n",
    "    <li>21枚を7行3列の行列として表示します。</li>\n",
    "    <li>21枚の中からユーザーに1枚カードを選択させます。</li>\n",
    "    以下の4.-6.を3回繰り返します。\n",
    "    <li>選択したカードが1-3列のどの列にあるかを答えてもらいます。</li>\n",
    "    <li>各列のカードをまとめてそれぞれ束とします。答え以外の列の束で答えの束を挟みます。</li>\n",
    "    <li>21枚を7行3列の行列として表示します。</li>\n",
    "    <li>リストの11番目を表示し、合っているかどうかを答えてもらいます。</li>\n",
    "</ol>"
   ]
  },
  {
   "cell_type": "code",
   "execution_count": 1,
   "metadata": {
    "ExecuteTime": {
     "end_time": "2019-04-14T09:04:51.251242Z",
     "start_time": "2019-04-14T09:04:50.022693Z"
    }
   },
   "outputs": [],
   "source": [
    "import numpy as np \n",
    "import pandas as pd # 可視化の際に便利\n",
    "from IPython.display import display # 可視化に利用\n",
    "import sys # プログラムの終了に利用"
   ]
  },
  {
   "cell_type": "markdown",
   "metadata": {},
   "source": [
    "# 関数定義"
   ]
  },
  {
   "cell_type": "markdown",
   "metadata": {},
   "source": [
    "## 52枚のカードを生成"
   ]
  },
  {
   "cell_type": "code",
   "execution_count": 2,
   "metadata": {
    "ExecuteTime": {
     "end_time": "2019-04-14T09:04:51.970572Z",
     "start_time": "2019-04-14T09:04:51.958479Z"
    },
    "code_folding": []
   },
   "outputs": [],
   "source": [
    "# 52枚のトランプを作成する関数\n",
    "def make_cards52():\n",
    "    suit=np.array([\"♠\",\"♡\",\"♦\",\"♣\"],dtype=\"object\") # ♠,♡,♦,♣の4つのマーク\n",
    "    number=[\"{:02d}\".format(i) for i in range(1,14)] # 1-13の13個の数字\n",
    "    \n",
    "    # 52枚のカードを生成\n",
    "    s=np.repeat(suit,13) # 52個のマーク \n",
    "    n=np.array(number*4,dtype=\"object\") # 52個の数字\n",
    "    cards52=s+n # 52個の[マーク,数字]の組み合わせ\n",
    "    \n",
    "    return cards52"
   ]
  },
  {
   "cell_type": "markdown",
   "metadata": {},
   "source": [
    "## 52枚から21枚のカードを選択"
   ]
  },
  {
   "cell_type": "code",
   "execution_count": 3,
   "metadata": {
    "ExecuteTime": {
     "end_time": "2019-04-14T09:04:53.102898Z",
     "start_time": "2019-04-14T09:04:53.094958Z"
    }
   },
   "outputs": [],
   "source": [
    "# 21枚のカードを選択する関数\n",
    "def choose_cards21(cards52):\n",
    "    cards21=cards52[np.random.choice(np.arange(52),21,replace=False)] # 21枚をランダムに非復元的に選択\n",
    "    \n",
    "    return cards21"
   ]
  },
  {
   "cell_type": "markdown",
   "metadata": {},
   "source": [
    "## カードをソート"
   ]
  },
  {
   "cell_type": "code",
   "execution_count": 4,
   "metadata": {
    "ExecuteTime": {
     "end_time": "2019-04-14T09:04:54.103414Z",
     "start_time": "2019-04-14T09:04:54.093089Z"
    }
   },
   "outputs": [],
   "source": [
    "# カードを並び替える関数\n",
    "def sort_cards21(cards21,column_chosen):\n",
    "    cards21_matrix=cards21.reshape(7,3) # 7行3列の行列を作成\n",
    "    \n",
    "    nc=(column_chosen-1)%3 # ユーザーの選択した列\n",
    "    numlist=[i for i in range(3)] # 1-3列目のリスト\n",
    "    nf,nb=list(set(numlist)-set([nc])) # ユーザーの選択しなかった2列\n",
    "    \n",
    "    cf=cards21_matrix[:,nf] # まとめる際、前となる列\n",
    "    cc=cards21_matrix[:,nc] # まとめる際、真ん中となる列\n",
    "    cb=cards21_matrix[:,nb] # まとめる際、後ろとなる列 \n",
    "    \n",
    "    cards21_sorted=np.concatenate([cf,cc,cb]) # 前、真ん中、後ろをまとめる\n",
    "    \n",
    "    return cards21_sorted"
   ]
  },
  {
   "cell_type": "markdown",
   "metadata": {},
   "source": [
    "## カードを表示"
   ]
  },
  {
   "cell_type": "code",
   "execution_count": 5,
   "metadata": {
    "ExecuteTime": {
     "end_time": "2019-04-14T09:04:55.165319Z",
     "start_time": "2019-04-14T09:04:55.157461Z"
    }
   },
   "outputs": [],
   "source": [
    "# カードを表示\n",
    "def display_cards(cards21):\n",
    "    display(pd.DataFrame(cards21.reshape(7,3),columns=[\"列1\",\"列2\",\"列3\"])) # 7行3列の行列を表示"
   ]
  },
  {
   "cell_type": "markdown",
   "metadata": {},
   "source": [
    "## 入力を確認"
   ]
  },
  {
   "cell_type": "code",
   "execution_count": 6,
   "metadata": {
    "ExecuteTime": {
     "end_time": "2019-04-14T09:04:56.314084Z",
     "start_time": "2019-04-14T09:04:56.303604Z"
    }
   },
   "outputs": [],
   "source": [
    "# 入力された値が1-3かどうかを確認し、値をintに変換\n",
    "def validate_input(i):\n",
    "    # 正しい形式の値が入力されるまで繰り返し\n",
    "    while True:\n",
    "        column_chosen=input(\"{}回目: 選んだカードは何列目にありますか。1-3の数字で入力してください: \".format(i+1)) # 何列目かの入力値\n",
    "        \n",
    "        if column_chosen in [\"1\",\"2\",\"3\"]: # 正しく1-3の値が入力されたら、str型の入力をintに変換\n",
    "            return int(column_chosen)\n",
    "        else: # 正しく入力されなかったら、エラーメッセージを表示\n",
    "            print(\"Error: 1-3の数値を入力してください。\") "
   ]
  },
  {
   "cell_type": "markdown",
   "metadata": {},
   "source": [
    "## 答えがあっているかどうかの確認"
   ]
  },
  {
   "cell_type": "code",
   "execution_count": 7,
   "metadata": {
    "ExecuteTime": {
     "end_time": "2019-04-14T09:04:57.533591Z",
     "start_time": "2019-04-14T09:04:57.519630Z"
    }
   },
   "outputs": [],
   "source": [
    "# 答えを確認\n",
    "def validate_answer(cards21):\n",
    "    while True: # 正しい形式の値が入力されるまで繰り返し\n",
    "        answer=input(\"あなたが選んだのは、{}ですね？ [yes or no] : \".format(cards21[10])) # 入力値\n",
    "    \n",
    "        if answer in [\"yes\",\"no\"]: # yes,noが入力されたら\n",
    "            if answer==\"yes\": # yesの場合\n",
    "                return print(\"でしょ。 [end]\")\n",
    "            elif answer==\"no\": # noの場合\n",
    "                print(\"そんなことはない。あなたが間違えています。最初からやり直してください。 [end]\")\n",
    "                sys.exit()\n",
    "        else: # yes,no以外が入力されたら\n",
    "            print(\"'yes'もしくは'no'で回答してください。\")"
   ]
  },
  {
   "cell_type": "markdown",
   "metadata": {},
   "source": [
    "# 実行"
   ]
  },
  {
   "cell_type": "code",
   "execution_count": 9,
   "metadata": {
    "ExecuteTime": {
     "end_time": "2019-04-14T09:05:34.807906Z",
     "start_time": "2019-04-14T09:05:15.762263Z"
    }
   },
   "outputs": [
    {
     "data": {
      "text/html": [
       "<div>\n",
       "<style scoped>\n",
       "    .dataframe tbody tr th:only-of-type {\n",
       "        vertical-align: middle;\n",
       "    }\n",
       "\n",
       "    .dataframe tbody tr th {\n",
       "        vertical-align: top;\n",
       "    }\n",
       "\n",
       "    .dataframe thead th {\n",
       "        text-align: right;\n",
       "    }\n",
       "</style>\n",
       "<table border=\"1\" class=\"dataframe\">\n",
       "  <thead>\n",
       "    <tr style=\"text-align: right;\">\n",
       "      <th></th>\n",
       "      <th>列1</th>\n",
       "      <th>列2</th>\n",
       "      <th>列3</th>\n",
       "    </tr>\n",
       "  </thead>\n",
       "  <tbody>\n",
       "    <tr>\n",
       "      <th>0</th>\n",
       "      <td>♠01</td>\n",
       "      <td>♣05</td>\n",
       "      <td>♡12</td>\n",
       "    </tr>\n",
       "    <tr>\n",
       "      <th>1</th>\n",
       "      <td>♣01</td>\n",
       "      <td>♣03</td>\n",
       "      <td>♣08</td>\n",
       "    </tr>\n",
       "    <tr>\n",
       "      <th>2</th>\n",
       "      <td>♡04</td>\n",
       "      <td>♦12</td>\n",
       "      <td>♡10</td>\n",
       "    </tr>\n",
       "    <tr>\n",
       "      <th>3</th>\n",
       "      <td>♡11</td>\n",
       "      <td>♠13</td>\n",
       "      <td>♦04</td>\n",
       "    </tr>\n",
       "    <tr>\n",
       "      <th>4</th>\n",
       "      <td>♠06</td>\n",
       "      <td>♠10</td>\n",
       "      <td>♣12</td>\n",
       "    </tr>\n",
       "    <tr>\n",
       "      <th>5</th>\n",
       "      <td>♡07</td>\n",
       "      <td>♠08</td>\n",
       "      <td>♠11</td>\n",
       "    </tr>\n",
       "    <tr>\n",
       "      <th>6</th>\n",
       "      <td>♦06</td>\n",
       "      <td>♠03</td>\n",
       "      <td>♠07</td>\n",
       "    </tr>\n",
       "  </tbody>\n",
       "</table>\n",
       "</div>"
      ],
      "text/plain": [
       "    列1   列2   列3\n",
       "0  ♠01  ♣05  ♡12\n",
       "1  ♣01  ♣03  ♣08\n",
       "2  ♡04  ♦12  ♡10\n",
       "3  ♡11  ♠13  ♦04\n",
       "4  ♠06  ♠10  ♣12\n",
       "5  ♡07  ♠08  ♠11\n",
       "6  ♦06  ♠03  ♠07"
      ]
     },
     "metadata": {},
     "output_type": "display_data"
    },
    {
     "name": "stdout",
     "output_type": "stream",
     "text": [
      "好きなカードを上から1枚決定してください。\n",
      "1回目: 選んだカードは何列目にありますか。1-3の数字で入力してください: 1\n"
     ]
    },
    {
     "data": {
      "text/html": [
       "<div>\n",
       "<style scoped>\n",
       "    .dataframe tbody tr th:only-of-type {\n",
       "        vertical-align: middle;\n",
       "    }\n",
       "\n",
       "    .dataframe tbody tr th {\n",
       "        vertical-align: top;\n",
       "    }\n",
       "\n",
       "    .dataframe thead th {\n",
       "        text-align: right;\n",
       "    }\n",
       "</style>\n",
       "<table border=\"1\" class=\"dataframe\">\n",
       "  <thead>\n",
       "    <tr style=\"text-align: right;\">\n",
       "      <th></th>\n",
       "      <th>列1</th>\n",
       "      <th>列2</th>\n",
       "      <th>列3</th>\n",
       "    </tr>\n",
       "  </thead>\n",
       "  <tbody>\n",
       "    <tr>\n",
       "      <th>0</th>\n",
       "      <td>♣05</td>\n",
       "      <td>♣03</td>\n",
       "      <td>♦12</td>\n",
       "    </tr>\n",
       "    <tr>\n",
       "      <th>1</th>\n",
       "      <td>♠13</td>\n",
       "      <td>♠10</td>\n",
       "      <td>♠08</td>\n",
       "    </tr>\n",
       "    <tr>\n",
       "      <th>2</th>\n",
       "      <td>♠03</td>\n",
       "      <td>♠01</td>\n",
       "      <td>♣01</td>\n",
       "    </tr>\n",
       "    <tr>\n",
       "      <th>3</th>\n",
       "      <td>♡04</td>\n",
       "      <td>♡11</td>\n",
       "      <td>♠06</td>\n",
       "    </tr>\n",
       "    <tr>\n",
       "      <th>4</th>\n",
       "      <td>♡07</td>\n",
       "      <td>♦06</td>\n",
       "      <td>♡12</td>\n",
       "    </tr>\n",
       "    <tr>\n",
       "      <th>5</th>\n",
       "      <td>♣08</td>\n",
       "      <td>♡10</td>\n",
       "      <td>♦04</td>\n",
       "    </tr>\n",
       "    <tr>\n",
       "      <th>6</th>\n",
       "      <td>♣12</td>\n",
       "      <td>♠11</td>\n",
       "      <td>♠07</td>\n",
       "    </tr>\n",
       "  </tbody>\n",
       "</table>\n",
       "</div>"
      ],
      "text/plain": [
       "    列1   列2   列3\n",
       "0  ♣05  ♣03  ♦12\n",
       "1  ♠13  ♠10  ♠08\n",
       "2  ♠03  ♠01  ♣01\n",
       "3  ♡04  ♡11  ♠06\n",
       "4  ♡07  ♦06  ♡12\n",
       "5  ♣08  ♡10  ♦04\n",
       "6  ♣12  ♠11  ♠07"
      ]
     },
     "metadata": {},
     "output_type": "display_data"
    },
    {
     "name": "stdout",
     "output_type": "stream",
     "text": [
      "2回目: 選んだカードは何列目にありますか。1-3の数字で入力してください: 2\n"
     ]
    },
    {
     "data": {
      "text/html": [
       "<div>\n",
       "<style scoped>\n",
       "    .dataframe tbody tr th:only-of-type {\n",
       "        vertical-align: middle;\n",
       "    }\n",
       "\n",
       "    .dataframe tbody tr th {\n",
       "        vertical-align: top;\n",
       "    }\n",
       "\n",
       "    .dataframe thead th {\n",
       "        text-align: right;\n",
       "    }\n",
       "</style>\n",
       "<table border=\"1\" class=\"dataframe\">\n",
       "  <thead>\n",
       "    <tr style=\"text-align: right;\">\n",
       "      <th></th>\n",
       "      <th>列1</th>\n",
       "      <th>列2</th>\n",
       "      <th>列3</th>\n",
       "    </tr>\n",
       "  </thead>\n",
       "  <tbody>\n",
       "    <tr>\n",
       "      <th>0</th>\n",
       "      <td>♣05</td>\n",
       "      <td>♠13</td>\n",
       "      <td>♠03</td>\n",
       "    </tr>\n",
       "    <tr>\n",
       "      <th>1</th>\n",
       "      <td>♡04</td>\n",
       "      <td>♡07</td>\n",
       "      <td>♣08</td>\n",
       "    </tr>\n",
       "    <tr>\n",
       "      <th>2</th>\n",
       "      <td>♣12</td>\n",
       "      <td>♣03</td>\n",
       "      <td>♠10</td>\n",
       "    </tr>\n",
       "    <tr>\n",
       "      <th>3</th>\n",
       "      <td>♠01</td>\n",
       "      <td>♡11</td>\n",
       "      <td>♦06</td>\n",
       "    </tr>\n",
       "    <tr>\n",
       "      <th>4</th>\n",
       "      <td>♡10</td>\n",
       "      <td>♠11</td>\n",
       "      <td>♦12</td>\n",
       "    </tr>\n",
       "    <tr>\n",
       "      <th>5</th>\n",
       "      <td>♠08</td>\n",
       "      <td>♣01</td>\n",
       "      <td>♠06</td>\n",
       "    </tr>\n",
       "    <tr>\n",
       "      <th>6</th>\n",
       "      <td>♡12</td>\n",
       "      <td>♦04</td>\n",
       "      <td>♠07</td>\n",
       "    </tr>\n",
       "  </tbody>\n",
       "</table>\n",
       "</div>"
      ],
      "text/plain": [
       "    列1   列2   列3\n",
       "0  ♣05  ♠13  ♠03\n",
       "1  ♡04  ♡07  ♣08\n",
       "2  ♣12  ♣03  ♠10\n",
       "3  ♠01  ♡11  ♦06\n",
       "4  ♡10  ♠11  ♦12\n",
       "5  ♠08  ♣01  ♠06\n",
       "6  ♡12  ♦04  ♠07"
      ]
     },
     "metadata": {},
     "output_type": "display_data"
    },
    {
     "name": "stdout",
     "output_type": "stream",
     "text": [
      "3回目: 選んだカードは何列目にありますか。1-3の数字で入力してください: 1\n"
     ]
    },
    {
     "data": {
      "text/html": [
       "<div>\n",
       "<style scoped>\n",
       "    .dataframe tbody tr th:only-of-type {\n",
       "        vertical-align: middle;\n",
       "    }\n",
       "\n",
       "    .dataframe tbody tr th {\n",
       "        vertical-align: top;\n",
       "    }\n",
       "\n",
       "    .dataframe thead th {\n",
       "        text-align: right;\n",
       "    }\n",
       "</style>\n",
       "<table border=\"1\" class=\"dataframe\">\n",
       "  <thead>\n",
       "    <tr style=\"text-align: right;\">\n",
       "      <th></th>\n",
       "      <th>列1</th>\n",
       "      <th>列2</th>\n",
       "      <th>列3</th>\n",
       "    </tr>\n",
       "  </thead>\n",
       "  <tbody>\n",
       "    <tr>\n",
       "      <th>0</th>\n",
       "      <td>♠13</td>\n",
       "      <td>♡07</td>\n",
       "      <td>♣03</td>\n",
       "    </tr>\n",
       "    <tr>\n",
       "      <th>1</th>\n",
       "      <td>♡11</td>\n",
       "      <td>♠11</td>\n",
       "      <td>♣01</td>\n",
       "    </tr>\n",
       "    <tr>\n",
       "      <th>2</th>\n",
       "      <td>♦04</td>\n",
       "      <td>♣05</td>\n",
       "      <td>♡04</td>\n",
       "    </tr>\n",
       "    <tr>\n",
       "      <th>3</th>\n",
       "      <td>♣12</td>\n",
       "      <td>♠01</td>\n",
       "      <td>♡10</td>\n",
       "    </tr>\n",
       "    <tr>\n",
       "      <th>4</th>\n",
       "      <td>♠08</td>\n",
       "      <td>♡12</td>\n",
       "      <td>♠03</td>\n",
       "    </tr>\n",
       "    <tr>\n",
       "      <th>5</th>\n",
       "      <td>♣08</td>\n",
       "      <td>♠10</td>\n",
       "      <td>♦06</td>\n",
       "    </tr>\n",
       "    <tr>\n",
       "      <th>6</th>\n",
       "      <td>♦12</td>\n",
       "      <td>♠06</td>\n",
       "      <td>♠07</td>\n",
       "    </tr>\n",
       "  </tbody>\n",
       "</table>\n",
       "</div>"
      ],
      "text/plain": [
       "    列1   列2   列3\n",
       "0  ♠13  ♡07  ♣03\n",
       "1  ♡11  ♠11  ♣01\n",
       "2  ♦04  ♣05  ♡04\n",
       "3  ♣12  ♠01  ♡10\n",
       "4  ♠08  ♡12  ♠03\n",
       "5  ♣08  ♠10  ♦06\n",
       "6  ♦12  ♠06  ♠07"
      ]
     },
     "metadata": {},
     "output_type": "display_data"
    },
    {
     "name": "stdout",
     "output_type": "stream",
     "text": [
      "あなたが選んだのは、♠01ですね？ [yes or no] : yes\n",
      "でしょ。 [end]\n"
     ]
    }
   ],
   "source": [
    "cards52=make_cards52() # 52枚のカードを作成\n",
    "cards21=choose_cards21(cards52) # 21枚のカードを選択\n",
    "\n",
    "display_cards(cards21) # 表示する\n",
    "print(\"好きなカードを上から1枚決定してください。\")\n",
    "\n",
    "# 3回繰り返す\n",
    "for i in range(3):\n",
    "    column_chosen=validate_input(i) # ユーザーの選択した列\n",
    "    cards21=sort_cards21(cards21,column_chosen) # カードをソート\n",
    "    display_cards(cards21) # 21枚のカードを表示\n",
    "    \n",
    "validate_answer(cards21) # 答えてもらう"
   ]
  },
  {
   "cell_type": "code",
   "execution_count": null,
   "metadata": {},
   "outputs": [],
   "source": []
  }
 ],
 "metadata": {
  "kernelspec": {
   "display_name": "Python 3",
   "language": "python",
   "name": "python3"
  },
  "language_info": {
   "codemirror_mode": {
    "name": "ipython",
    "version": 3
   },
   "file_extension": ".py",
   "mimetype": "text/x-python",
   "name": "python",
   "nbconvert_exporter": "python",
   "pygments_lexer": "ipython3",
   "version": "3.6.7"
  },
  "toc": {
   "base_numbering": 1,
   "nav_menu": {},
   "number_sections": true,
   "sideBar": true,
   "skip_h1_title": false,
   "title_cell": "Table of Contents",
   "title_sidebar": "Contents",
   "toc_cell": false,
   "toc_position": {
    "height": "calc(100% - 180px)",
    "left": "10px",
    "top": "150px",
    "width": "164.988px"
   },
   "toc_section_display": true,
   "toc_window_display": true
  }
 },
 "nbformat": 4,
 "nbformat_minor": 2
}
