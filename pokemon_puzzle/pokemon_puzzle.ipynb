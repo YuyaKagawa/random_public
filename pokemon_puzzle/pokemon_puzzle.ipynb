{
 "cells": [
  {
   "cell_type": "markdown",
   "metadata": {},
   "source": [
    "ポケモンのスケルトンの作成過程を記録したノートブックです。  \n",
    "\n",
    "\n",
    "元ネタ:  \n",
    "稲葉直貴(@puzlab)氏  \n",
    "https://twitter.com/puzlab/status/1302126737891893249"
   ]
  },
  {
   "cell_type": "code",
   "execution_count": 17,
   "metadata": {},
   "outputs": [],
   "source": [
    "import numpy as np\n",
    "import pandas as pd\n",
    "import csv\n",
    "import json"
   ]
  },
  {
   "cell_type": "markdown",
   "metadata": {},
   "source": [
    "# マス目づくり"
   ]
  },
  {
   "cell_type": "markdown",
   "metadata": {},
   "source": [
    "## デフォルト"
   ]
  },
  {
   "cell_type": "markdown",
   "metadata": {},
   "source": [
    "default.csvに保存してあります。"
   ]
  },
  {
   "cell_type": "code",
   "execution_count": 28,
   "metadata": {
    "ExecuteTime": {
     "end_time": "2020-12-27T15:07:53.162387Z",
     "start_time": "2020-12-27T15:07:53.152385Z"
    }
   },
   "outputs": [
    {
     "output_type": "stream",
     "name": "stdout",
     "text": [
      "(151, 7)\n"
     ]
    },
    {
     "output_type": "execute_result",
     "data": {
      "text/plain": [
       "   インデックス  始点_行  始点_列  終点_行  終点_列  図鑑ナンバー     名前\n",
       "0       0     0     2     3     2      60   ニ◯◯◯\n",
       "1       1     0     8     0    12     100  ◯◯◯◯◯\n",
       "2       2     0    12     4    12     101  ◯◯◯イ◯\n",
       "3       3     0    15     0    19      21  オ◯◯◯◯\n",
       "4       4     0    17     4    17     123  ◯◯◯◯◯"
      ],
      "text/html": "<div>\n<style scoped>\n    .dataframe tbody tr th:only-of-type {\n        vertical-align: middle;\n    }\n\n    .dataframe tbody tr th {\n        vertical-align: top;\n    }\n\n    .dataframe thead th {\n        text-align: right;\n    }\n</style>\n<table border=\"1\" class=\"dataframe\">\n  <thead>\n    <tr style=\"text-align: right;\">\n      <th></th>\n      <th>インデックス</th>\n      <th>始点_行</th>\n      <th>始点_列</th>\n      <th>終点_行</th>\n      <th>終点_列</th>\n      <th>図鑑ナンバー</th>\n      <th>名前</th>\n    </tr>\n  </thead>\n  <tbody>\n    <tr>\n      <th>0</th>\n      <td>0</td>\n      <td>0</td>\n      <td>2</td>\n      <td>3</td>\n      <td>2</td>\n      <td>60</td>\n      <td>ニ◯◯◯</td>\n    </tr>\n    <tr>\n      <th>1</th>\n      <td>1</td>\n      <td>0</td>\n      <td>8</td>\n      <td>0</td>\n      <td>12</td>\n      <td>100</td>\n      <td>◯◯◯◯◯</td>\n    </tr>\n    <tr>\n      <th>2</th>\n      <td>2</td>\n      <td>0</td>\n      <td>12</td>\n      <td>4</td>\n      <td>12</td>\n      <td>101</td>\n      <td>◯◯◯イ◯</td>\n    </tr>\n    <tr>\n      <th>3</th>\n      <td>3</td>\n      <td>0</td>\n      <td>15</td>\n      <td>0</td>\n      <td>19</td>\n      <td>21</td>\n      <td>オ◯◯◯◯</td>\n    </tr>\n    <tr>\n      <th>4</th>\n      <td>4</td>\n      <td>0</td>\n      <td>17</td>\n      <td>4</td>\n      <td>17</td>\n      <td>123</td>\n      <td>◯◯◯◯◯</td>\n    </tr>\n  </tbody>\n</table>\n</div>"
     },
     "metadata": {},
     "execution_count": 28
    }
   ],
   "source": [
    "D=pd.read_csv(\"./data/csv/default.csv\",header=0,encoding=\"SHIFT_JIS\") # 答え\n",
    "print(D.shape)\n",
    "D.head()"
   ]
  },
  {
   "cell_type": "code",
   "execution_count": 29,
   "metadata": {
    "ExecuteTime": {
     "end_time": "2020-12-27T15:07:54.554238Z",
     "start_time": "2020-12-27T15:07:54.522229Z"
    }
   },
   "outputs": [],
   "source": [
    "DS=np.full((32,32),\"　\",dtype=object) # マス目\n",
    "\n",
    "for _,row in D.iterrows():\n",
    "    sr=row[\"始点_行\"]\n",
    "    sc=row[\"始点_列\"]\n",
    "    er=row[\"終点_行\"]\n",
    "    ec=row[\"終点_列\"]\n",
    "    \n",
    "    if sr==er:\n",
    "        DS[sr:er+1,sc:ec+1]=np.asarray(list(row[\"名前\"])).reshape(1,-1)\n",
    "    elif sc==ec:\n",
    "        DS[sr:er+1,sc:ec+1]=np.asarray(list(row[\"名前\"])).reshape(-1,1)"
   ]
  },
  {
   "cell_type": "code",
   "execution_count": 30,
   "metadata": {
    "ExecuteTime": {
     "end_time": "2020-12-27T15:07:55.815305Z",
     "start_time": "2020-12-27T15:07:55.810304Z"
    }
   },
   "outputs": [
    {
     "output_type": "stream",
     "name": "stdout",
     "text": [
      "　　ニ　　　　　◯◯◯◯◯　　オ◯◯◯◯　◯ク◯◯　◯◯◯リ◯　\nピ◯◯◯◯　　◯　　　　◯　　　　◯　　ミ　　◯　　　　　　◯　\n　　◯　　　　◯　　◯◯◯◯◯　　◯◯◯◯◯　◯　　◯◯◯ク◯　\n　◯◯◯◯　　◯　◯　　イ　◯◯◯◯　　◯　　◯　　　　　　◯　\n◯　　　◯　ジ◯ゴ◯　◯◯パ◯　　◯　◯　◯◯◯◯◯　◯◯◯◯　\n◯　◯　◯　　◯　ド　　　　デ　◯　ラ◯◯◯　　　　　◯　　　◯\nカ　◯◯◯ボ◯　　◯　　◯ァ◯◯◯　　◯　◯　◯　　　ノ　　　◯\n◯◯◯　プ　◯◯◯◯◯◯　　　　◯　　ッ　◯　◯◯◯◯◯　　　◯\n　　◯　　　リ　　　◯　　　　◯◯◯◯◯　ン　コ　　　◯◯◯◯◯\n　　　◯◯◯◯◯　　ド　ゴ　　ル　　　　　　　◯　◯　　　　　　\n　　　ブ　　◯　　バ◯◯◯◯　◯　◯　◯　　◯◯◯◯◯　◯　　◯\n　◯◯◯◯◯　◯　　ル　◯　　◯◯◯◯◯　　◯　　ポ　◯◯◯マ◯\n　　　◯　　◯◯シ◯　◯◯◯◯◯　◯　◯ィ◯◯　◯　　　◯　　◯\n　◯　ス　　　ド　◯　◯　◯　　　◯　ィ　　◯　◯◯◯◯◯　　◯\n　ュ　　◯メ◯◯　ー　◯　◯　◯◯◯◯　◯◯◯◯◯　　　　　　◯\n　◯　　イ　　　◯◯◯◯　タ　　◯　ク　◯　　　　　◯シ◯◯◯　\n　◯　　◯　　　◯　　◯◯◯◯　ー　◯　◯　◯◯◯　◯　◯　　　\n◯◯◯◯◯　ト◯◯◯ト　　　　◯◯◯◯◯◯　◯　　　◯　◯◯◯◯\n◯　　　　　　　◯　　　　◯◯◯　　　　　　◯　　　◯　◯　　　\nダ　　　◯◯◯ン◯　　◯　　　◯　◯　　◯　◯サ◯◯◯　◯　　◯\n◯　　　◯　　　　◯ニ◯タ　　ー　◯◯◯◯◯　　　◯　◯　　　レ\n　　◯◯◯◯◯　サ　　ド　◯◯◯◯◯　　◯　　パ　◯　ー　　　◯\n◯　◯　◯　　カ◯◯◯◯　◯　　◯　　◯◯◯◯◯　◯　◯タ◯◯◯\n◯　◯　　◯　　◯　◯　　◯　　ツ　　◯　　　◯◯◯◯◯　◯　　\n◯ロ◯◯　◯◯ラ◯　◯　　◯　　◯　ラ◯◯◯◯　ザ　　　　◯　ミ\n◯　ノ　　◯　　　◯◯ン◯◯　◯◯◯　◯　　　◯◯◯　　　◯　◯\n　　　◯　◯◯◯　　◯　　　　◯　　　◯　　　　◯　◯　パ◯◯◯\n　◯ー◯◯◯　　　ド　◯◯◯◯◯　　　　ゼ　　◯◯◯◯ー　　　◯\n◯　　◯　　◯◯◯◯◯　　◯　　　◯◯◯◯◯　　　　◯　◯◯◯◯\n◯ジ◯◯　ロ　◯　◯　　　◯◯◯◯◯　　◯　　◯　　タ　　　◯　\n◯　　　　◯　◯　◯◯ー◯◯　　　◯　　◯◯◯◯◯　　　　　◯　\nー　　　マ◯◯◯　　　　　◯◯◯◯　　　　　　◯　　◯◯◯◯◯　\n"
     ]
    }
   ],
   "source": [
    "for r in range(DS.shape[0]):\n",
    "    print(\"\".join(DS[r,:]))"
   ]
  },
  {
   "cell_type": "markdown",
   "metadata": {},
   "source": [
    "これをcsvに保存します。  \n",
    "その際、1回pandasのdataframeにすることでencodingをUTF-8にします。"
   ]
  },
  {
   "cell_type": "code",
   "execution_count": 34,
   "metadata": {
    "ExecuteTime": {
     "end_time": "2020-12-27T15:07:16.870279Z",
     "start_time": "2020-12-27T15:07:16.860278Z"
    }
   },
   "outputs": [],
   "source": [
    "DDS=pd.DataFrame(DS) # pandasデータフレームで扱う\n",
    "DDS.to_csv(\"./data/csv/default_sq.csv\",index=False,encoding=\"UTF-8\",header=False)\n",
    "# np.savetxt('pokemon_puzzle/default_sq.csv', S, fmt=\"%s\", delimiter=',') # マス目上のものを保存"
   ]
  },
  {
   "cell_type": "code",
   "execution_count": null,
   "metadata": {},
   "outputs": [],
   "source": []
  },
  {
   "cell_type": "code",
   "execution_count": null,
   "metadata": {},
   "outputs": [],
   "source": []
  },
  {
   "cell_type": "markdown",
   "metadata": {},
   "source": [
    "## 答え"
   ]
  },
  {
   "cell_type": "markdown",
   "metadata": {},
   "source": [
    "全て埋めたものを参考に、マス目を作ってゆきましょう。  \n",
    "順番の規則は、下に従います。  \n",
    "<ul>\n",
    "    <li>頭文字の位置に着目する</li>\n",
    "    <li>1行ずつ見てゆき、頭文字の行の番号の小さいものが番号が小さくなるように</li>\n",
    "    <li>1列ずつ見てゆき、頭文字の列の番号の小さいものが番号が小さくなるように</li>\n",
    "    <li>同行同列の場合、横書きのものが小さい方に、縦書きが大きい方に</li>\n",
    "</ul>"
   ]
  },
  {
   "cell_type": "markdown",
   "metadata": {},
   "source": [
    "これはanswer.csvに保存しています。"
   ]
  },
  {
   "cell_type": "code",
   "execution_count": 20,
   "metadata": {
    "ExecuteTime": {
     "end_time": "2020-12-27T14:07:03.048621Z",
     "start_time": "2020-12-27T14:07:03.031856Z"
    }
   },
   "outputs": [
    {
     "output_type": "stream",
     "name": "stdout",
     "text": [
      "(151, 7)\n"
     ]
    },
    {
     "output_type": "execute_result",
     "data": {
      "text/plain": [
       "   インデックス  始点_行  始点_列  終点_行  終点_列  図鑑ナンバー     名前\n",
       "0       0     0     2     3     2      60   ニョロモ\n",
       "1       1     0     8     0    12     100  ビリリダマ\n",
       "2       2     0    12     4    12     101  マルマイン\n",
       "3       3     0    15     0    19      21  オニスズメ\n",
       "4       4     0    17     4    17     123  ストライク"
      ],
      "text/html": "<div>\n<style scoped>\n    .dataframe tbody tr th:only-of-type {\n        vertical-align: middle;\n    }\n\n    .dataframe tbody tr th {\n        vertical-align: top;\n    }\n\n    .dataframe thead th {\n        text-align: right;\n    }\n</style>\n<table border=\"1\" class=\"dataframe\">\n  <thead>\n    <tr style=\"text-align: right;\">\n      <th></th>\n      <th>インデックス</th>\n      <th>始点_行</th>\n      <th>始点_列</th>\n      <th>終点_行</th>\n      <th>終点_列</th>\n      <th>図鑑ナンバー</th>\n      <th>名前</th>\n    </tr>\n  </thead>\n  <tbody>\n    <tr>\n      <th>0</th>\n      <td>0</td>\n      <td>0</td>\n      <td>2</td>\n      <td>3</td>\n      <td>2</td>\n      <td>60</td>\n      <td>ニョロモ</td>\n    </tr>\n    <tr>\n      <th>1</th>\n      <td>1</td>\n      <td>0</td>\n      <td>8</td>\n      <td>0</td>\n      <td>12</td>\n      <td>100</td>\n      <td>ビリリダマ</td>\n    </tr>\n    <tr>\n      <th>2</th>\n      <td>2</td>\n      <td>0</td>\n      <td>12</td>\n      <td>4</td>\n      <td>12</td>\n      <td>101</td>\n      <td>マルマイン</td>\n    </tr>\n    <tr>\n      <th>3</th>\n      <td>3</td>\n      <td>0</td>\n      <td>15</td>\n      <td>0</td>\n      <td>19</td>\n      <td>21</td>\n      <td>オニスズメ</td>\n    </tr>\n    <tr>\n      <th>4</th>\n      <td>4</td>\n      <td>0</td>\n      <td>17</td>\n      <td>4</td>\n      <td>17</td>\n      <td>123</td>\n      <td>ストライク</td>\n    </tr>\n  </tbody>\n</table>\n</div>"
     },
     "metadata": {},
     "execution_count": 20
    }
   ],
   "source": [
    "A=pd.read_csv(\"./data/csv/answer.csv\",header=0,encoding=\"SHIFT_JIS\") # 答え\n",
    "print(A.shape)\n",
    "A.head()"
   ]
  },
  {
   "cell_type": "markdown",
   "metadata": {},
   "source": [
    "次に、これらからマス目を作成します。"
   ]
  },
  {
   "cell_type": "code",
   "execution_count": 21,
   "metadata": {
    "ExecuteTime": {
     "end_time": "2020-12-27T14:07:04.475693Z",
     "start_time": "2020-12-27T14:07:04.448686Z"
    }
   },
   "outputs": [],
   "source": [
    "AS=np.full((32,32),\"　\",dtype=object) # マス目\n",
    "\n",
    "for _,row in A.iterrows():\n",
    "    sr=row[\"始点_行\"]\n",
    "    sc=row[\"始点_列\"]\n",
    "    er=row[\"終点_行\"]\n",
    "    ec=row[\"終点_列\"]\n",
    "    \n",
    "    if sr==er:\n",
    "        AS[sr:er+1,sc:ec+1]=np.asarray(list(row[\"名前\"])).reshape(1,-1)\n",
    "    elif sc==ec:\n",
    "        AS[sr:er+1,sc:ec+1]=np.asarray(list(row[\"名前\"])).reshape(-1,1)"
   ]
  },
  {
   "cell_type": "code",
   "execution_count": 22,
   "metadata": {
    "ExecuteTime": {
     "end_time": "2020-12-27T14:07:05.530892Z",
     "start_time": "2020-12-27T14:07:05.523891Z"
    }
   },
   "outputs": [
    {
     "output_type": "stream",
     "name": "stdout",
     "text": [
      "　　ニ　　　　　ビリリダマ　　オニスズメ　ピクシー　ドードリオ　\nピジョット　　ピ　　　　ル　　　　ト　　ミ　　ェ　　　　　　ム　\n　　ロ　　　　カ　　アズマオウ　　ライチュウ　ル　　カメックス　\n　カモネギ　　チ　サ　　イ　イーブイ　　ウ　　ダ　　　　　　タ　\nカ　　　ャ　ジュゴン　コンパン　　ク　ウ　フリーザー　ナッシー　\nラ　タ　ロ　　ウ　ド　　　　デ　シ　ラッキー　　　　　ゾ　　　ウ\nカ　マダツボミ　　パ　　ファイヤー　　ボ　デ　レ　　　ノ　　　ツ\nラッタ　プ　ニドランオス　　　　ド　　ッ　ィ　アーボック　　　ド\n　　マ　　　リ　　　ニ　　　　パラセクト　ン　コ　　　サイホーン\n　　　カイリュー　　ド　ゴ　　ル　　　　　　　イ　ポ　　　　　　\n　　　ブ　　ウ　　バリヤード　シ　サ　ガ　　ゴルバット　ヒ　　ケ\n　ダグトリオ　ビ　　ル　ス　　エビワラー　　ル　　ポ　ヒトデマン\n　　　プ　　ケーシイ　ベトベトン　ム　ディグダ　ヤ　　　カ　　タ\n　キ　ス　　　ド　ワ　ロ　ト　　　ラ　ィ　　ッ　ドククラゲ　　ロ\n　ュ　　カメール　ー　リ　ベ　スリープ　ニドクイン　　　　　　ス\n　ウ　　イ　　　コクーン　タ　　ザ　ク　ャ　　　　　フシギダネ　\n　コ　　ロ　　　イ　　ガルーラ　ー　リ　ー　コイル　シ　ャ　　　\nサンダース　トサキント　　　　ニドランメス　ダ　　　ギ　ラプラス\nン　　　　　　　ン　　　　サンド　　　　　　ッ　　　バ　ド　　　\nダ　　　ニドキング　　ド　　　リ　カ　　メ　クサイハナ　ス　　エ\nー　　　ョ　　　　ポニータ　　ー　ブースター　　　ク　ブ　　　レ\n　　ニョロボン　サ　　ド　オムナイト　　モ　　パ　リ　ー　　　ブ\nカ　ド　ゾ　　カイリキー　コ　　シ　　モンジャラ　ュ　バタフリー\nビ　リ　　キ　　ド　ン　　リ　　ツ　　ル　　　スリーパー　シ　　\nゴローン　ヤドラン　グ　　ザ　　ブ　ラフレシア　ザ　　　　ギ　ミ\nン　ノ　　タ　　　トランセル　プテラ　ォ　　　アーボ　　　ソ　ュ\n　　　ポ　ピッピ　　ー　　　　リ　　　ン　　　　ド　コ　パウワウ\n　ゴーリキー　　　ド　ペルシアン　　　　ゼ　　ユンゲラー　　　ツ\nス　　ゴ　　マタドガス　　ャ　　　ゴローニャ　　　　ッ　ゲンガー\nピジョン　ロ　ッ　ー　　　ワンリキー　　ガ　　ク　　タ　　　ラ　\nア　　　　コ　ツ　スターミー　　　ス　　メノクラゲ　　　　　ガ　\nー　　　マンキー　　　　　ズバット　　　　　　ブ　　ルージュラ　\n"
     ]
    }
   ],
   "source": [
    "for r in range(AS.shape[0]):\n",
    "    print(\"\".join(AS[r,:]))"
   ]
  },
  {
   "cell_type": "markdown",
   "metadata": {},
   "source": [
    "これを1回csvに保存します。  \n",
    "その際、1回pandasのdataframeにすることでencodingをUTF-8にします。"
   ]
  },
  {
   "cell_type": "code",
   "execution_count": 35,
   "metadata": {},
   "outputs": [],
   "source": [
    "DAS=pd.DataFrame(AS) # pandasデータフレームで扱う\n",
    "DAS.to_csv(\"./data/csv/answer_sq.csv\",index=False,encoding=\"UTF-8\",header=False)\n",
    "# np.savetxt('answer_sq.csv', S, fmt=\"%s\", delimiter=',') # マス目上のものを保存"
   ]
  },
  {
   "cell_type": "code",
   "execution_count": null,
   "metadata": {},
   "outputs": [],
   "source": []
  },
  {
   "cell_type": "code",
   "execution_count": 59,
   "metadata": {
    "ExecuteTime": {
     "end_time": "2020-12-27T14:21:01.223897Z",
     "start_time": "2020-12-27T14:21:01.204893Z"
    }
   },
   "outputs": [
    {
     "data": {
      "text/plain": [
       "array([['\\u3000', '\\u3000', 'ニ', ..., 'リ', 'オ', '\\u3000'],\n",
       "       ['ピ', 'ジ', 'ョ', ..., '\\u3000', 'ム', '\\u3000'],\n",
       "       ['\\u3000', '\\u3000', 'ロ', ..., 'ク', 'ス', '\\u3000'],\n",
       "       ...,\n",
       "       ['ピ', 'ジ', 'ョ', ..., '\\u3000', 'ラ', '\\u3000'],\n",
       "       ['ア', '\\u3000', '\\u3000', ..., '\\u3000', 'ガ', '\\u3000'],\n",
       "       ['ー', '\\u3000', '\\u3000', ..., 'ュ', 'ラ', '\\u3000']], dtype='<U1')"
      ]
     },
     "execution_count": 59,
     "metadata": {},
     "output_type": "execute_result"
    }
   ],
   "source": [
    "np.loadtxt(\"answer_sq.csv\",delimiter=\",\",dtype=str)"
   ]
  },
  {
   "cell_type": "code",
   "execution_count": null,
   "metadata": {},
   "outputs": [],
   "source": []
  },
  {
   "source": [
    "# csvをjsonに変換"
   ],
   "cell_type": "markdown",
   "metadata": {}
  },
  {
   "source": [
    "上ではcsv形式で保存していましたが、後にjavascriptで扱う都合上、jsonに変換した方が楽なようです。  \n",
    "jsonに変換します。  \n",
    "参考: Pythonにおけるデータ入出力（CSV、JSON） - Qiita, https://qiita.com/Amtkxa/items/1bc945bf434ae910a85f"
   ],
   "cell_type": "markdown",
   "metadata": {}
  },
  {
   "cell_type": "code",
   "execution_count": 14,
   "metadata": {},
   "outputs": [],
   "source": [
    "def csv2json(fname_csv):\n",
    "    json_list=[] # 最終的な、json形式のデータ（dictのlist）的な\n",
    "    json_data={} # 最終的な、json形式のヘッダ的な\n",
    "    # json形式のファイル名\n",
    "    fname_json=fname_csv.split(\"/\")[0]+\"/\"+\"json/\"+fname_csv.split(\"/\")[2].split(\".\")[0]+\".json\"\n",
    "\n",
    "    # csvファイルのロード\n",
    "    with open(fname_csv,\"r\") as f:\n",
    "        # csvの各行について、dictのlistにappendしてゆく\n",
    "        for line in csv.DictReader(f):\n",
    "            json_list.append(line)\n",
    "\n",
    "        json_data[\"square\"]=json_list\n",
    "\n",
    "    with open(fname_json,\"w\") as f:\n",
    "        # json形式で保存\n",
    "        json.dump(json_data,f)"
   ]
  },
  {
   "cell_type": "code",
   "execution_count": 15,
   "metadata": {},
   "outputs": [],
   "source": [
    "csv2json(\"data/csv/default_sq.csv\") # 最初の状態\n",
    "csv2json(\"data/csv/answer_sq.csv\") # 答えの状態"
   ]
  },
  {
   "cell_type": "code",
   "execution_count": null,
   "metadata": {},
   "outputs": [],
   "source": []
  },
  {
   "cell_type": "markdown",
   "metadata": {},
   "source": [
    "# ゴミ置き場"
   ]
  },
  {
   "cell_type": "markdown",
   "metadata": {},
   "source": [
    "## 始点、終点が正しいかどうかの確認"
   ]
  },
  {
   "cell_type": "markdown",
   "metadata": {},
   "source": [
    "始点、終点は人力で完成させました。  \n",
    "これらが正しいかどうかを確かめます。"
   ]
  },
  {
   "cell_type": "code",
   "execution_count": 76,
   "metadata": {
    "ExecuteTime": {
     "end_time": "2020-12-27T15:04:03.780204Z",
     "start_time": "2020-12-27T15:04:03.762200Z"
    }
   },
   "outputs": [],
   "source": [
    "### 文字数と始点、終点の関係を確認する\n",
    "for _,row in D.iterrows():\n",
    "    dr=row[\"終点_行\"]-row[\"始点_行\"] # 行の差\n",
    "    dc=row[\"終点_列\"]-row[\"始点_列\"] # 列の差\n",
    "    \n",
    "    if dr==(len(row[\"名前\"])-1) and dc==(len(row[\"名前\"])-1):\n",
    "        print(\"要修正: 斜め, \",row)\n",
    "    elif dr!=(len(row[\"名前\"])-1) and dc!=(len(row[\"名前\"])-1):\n",
    "        print(\"要修正: 文字数, \",row)"
   ]
  },
  {
   "cell_type": "markdown",
   "metadata": {},
   "source": [
    "何回か修正した後、特に間違いは発見されなくなりました。"
   ]
  },
  {
   "cell_type": "code",
   "execution_count": null,
   "metadata": {},
   "outputs": [],
   "source": []
  }
 ],
 "metadata": {
  "kernelspec": {
   "display_name": "Python 3",
   "language": "python",
   "name": "python3"
  },
  "language_info": {
   "codemirror_mode": {
    "name": "ipython",
    "version": 3
   },
   "file_extension": ".py",
   "mimetype": "text/x-python",
   "name": "python",
   "nbconvert_exporter": "python",
   "pygments_lexer": "ipython3",
   "version": "3.6.8-final"
  },
  "toc": {
   "base_numbering": 1,
   "nav_menu": {},
   "number_sections": true,
   "sideBar": true,
   "skip_h1_title": false,
   "title_cell": "Table of Contents",
   "title_sidebar": "Contents",
   "toc_cell": false,
   "toc_position": {
    "height": "calc(100% - 180px)",
    "left": "10px",
    "top": "150px",
    "width": "165px"
   },
   "toc_section_display": true,
   "toc_window_display": true
  }
 },
 "nbformat": 4,
 "nbformat_minor": 4
}