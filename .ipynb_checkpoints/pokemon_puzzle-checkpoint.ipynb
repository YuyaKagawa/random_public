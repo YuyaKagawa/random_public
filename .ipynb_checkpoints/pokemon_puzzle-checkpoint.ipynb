{
 "cells": [
  {
   "cell_type": "markdown",
   "metadata": {},
   "source": [
    "ポケモンのスケルトンの作成過程を記録したノートブックです。  \n",
    "\n",
    "\n",
    "元ネタ:  \n",
    "稲葉直貴(@puzlab)氏  \n",
    "https://twitter.com/puzlab/status/1302126737891893249"
   ]
  },
  {
   "cell_type": "code",
   "execution_count": null,
   "metadata": {},
   "outputs": [],
   "source": [
    "import numpy as np\n",
    "import pandas as pd\n"
   ]
  },
  {
   "cell_type": "markdown",
   "metadata": {},
   "source": [
    "# マス目づくり"
   ]
  },
  {
   "cell_type": "markdown",
   "metadata": {},
   "source": [
    "## デフォルト"
   ]
  },
  {
   "cell_type": "markdown",
   "metadata": {},
   "source": [
    "default.csvに保存してあります。"
   ]
  },
  {
   "cell_type": "code",
   "execution_count": 79,
   "metadata": {
    "ExecuteTime": {
     "end_time": "2020-12-27T15:07:53.162387Z",
     "start_time": "2020-12-27T15:07:53.152385Z"
    }
   },
   "outputs": [
    {
     "name": "stdout",
     "output_type": "stream",
     "text": [
      "(151, 7)\n"
     ]
    },
    {
     "data": {
      "text/html": [
       "<div>\n",
       "<style scoped>\n",
       "    .dataframe tbody tr th:only-of-type {\n",
       "        vertical-align: middle;\n",
       "    }\n",
       "\n",
       "    .dataframe tbody tr th {\n",
       "        vertical-align: top;\n",
       "    }\n",
       "\n",
       "    .dataframe thead th {\n",
       "        text-align: right;\n",
       "    }\n",
       "</style>\n",
       "<table border=\"1\" class=\"dataframe\">\n",
       "  <thead>\n",
       "    <tr style=\"text-align: right;\">\n",
       "      <th></th>\n",
       "      <th>インデックス</th>\n",
       "      <th>始点_行</th>\n",
       "      <th>始点_列</th>\n",
       "      <th>終点_行</th>\n",
       "      <th>終点_列</th>\n",
       "      <th>図鑑ナンバー</th>\n",
       "      <th>名前</th>\n",
       "    </tr>\n",
       "  </thead>\n",
       "  <tbody>\n",
       "    <tr>\n",
       "      <th>0</th>\n",
       "      <td>0</td>\n",
       "      <td>0</td>\n",
       "      <td>2</td>\n",
       "      <td>3</td>\n",
       "      <td>2</td>\n",
       "      <td>60</td>\n",
       "      <td>ニ◯◯◯</td>\n",
       "    </tr>\n",
       "    <tr>\n",
       "      <th>1</th>\n",
       "      <td>1</td>\n",
       "      <td>0</td>\n",
       "      <td>8</td>\n",
       "      <td>0</td>\n",
       "      <td>12</td>\n",
       "      <td>100</td>\n",
       "      <td>◯◯◯◯◯</td>\n",
       "    </tr>\n",
       "    <tr>\n",
       "      <th>2</th>\n",
       "      <td>2</td>\n",
       "      <td>0</td>\n",
       "      <td>12</td>\n",
       "      <td>4</td>\n",
       "      <td>12</td>\n",
       "      <td>101</td>\n",
       "      <td>◯◯◯イ◯</td>\n",
       "    </tr>\n",
       "    <tr>\n",
       "      <th>3</th>\n",
       "      <td>3</td>\n",
       "      <td>0</td>\n",
       "      <td>15</td>\n",
       "      <td>0</td>\n",
       "      <td>19</td>\n",
       "      <td>21</td>\n",
       "      <td>オ◯◯◯◯</td>\n",
       "    </tr>\n",
       "    <tr>\n",
       "      <th>4</th>\n",
       "      <td>4</td>\n",
       "      <td>0</td>\n",
       "      <td>17</td>\n",
       "      <td>4</td>\n",
       "      <td>17</td>\n",
       "      <td>123</td>\n",
       "      <td>◯◯◯◯◯</td>\n",
       "    </tr>\n",
       "  </tbody>\n",
       "</table>\n",
       "</div>"
      ],
      "text/plain": [
       "   インデックス  始点_行  始点_列  終点_行  終点_列  図鑑ナンバー     名前\n",
       "0       0     0     2     3     2      60   ニ◯◯◯\n",
       "1       1     0     8     0    12     100  ◯◯◯◯◯\n",
       "2       2     0    12     4    12     101  ◯◯◯イ◯\n",
       "3       3     0    15     0    19      21  オ◯◯◯◯\n",
       "4       4     0    17     4    17     123  ◯◯◯◯◯"
      ]
     },
     "execution_count": 79,
     "metadata": {},
     "output_type": "execute_result"
    }
   ],
   "source": [
    "D=pd.read_csv(\"pokemon_puzzle/default.csv\",header=0,encoding=\"SHIFT_JIS\") # 答え\n",
    "print(D.shape)\n",
    "D.head()"
   ]
  },
  {
   "cell_type": "code",
   "execution_count": 80,
   "metadata": {
    "ExecuteTime": {
     "end_time": "2020-12-27T15:07:54.554238Z",
     "start_time": "2020-12-27T15:07:54.522229Z"
    }
   },
   "outputs": [],
   "source": [
    "DS=np.full((32,32),\"　\",dtype=object) # マス目\n",
    "\n",
    "for _,row in D.iterrows():\n",
    "    sr=row[\"始点_行\"]\n",
    "    sc=row[\"始点_列\"]\n",
    "    er=row[\"終点_行\"]\n",
    "    ec=row[\"終点_列\"]\n",
    "    \n",
    "    if sr==er:\n",
    "        DS[sr:er+1,sc:ec+1]=np.asarray(list(row[\"名前\"])).reshape(1,-1)\n",
    "    elif sc==ec:\n",
    "        DS[sr:er+1,sc:ec+1]=np.asarray(list(row[\"名前\"])).reshape(-1,1)"
   ]
  },
  {
   "cell_type": "code",
   "execution_count": 81,
   "metadata": {
    "ExecuteTime": {
     "end_time": "2020-12-27T15:07:55.815305Z",
     "start_time": "2020-12-27T15:07:55.810304Z"
    }
   },
   "outputs": [
    {
     "name": "stdout",
     "output_type": "stream",
     "text": [
      "　　ニ　　　　　◯◯◯◯◯　　オ◯◯◯◯　◯ク◯◯　◯◯◯リ◯　\n",
      "ピ◯◯◯◯　　◯　　　　◯　　　　◯　　ミ　　◯　　　　　　◯　\n",
      "　　◯　　　　◯　　◯◯◯◯◯　　◯◯◯◯◯　◯　　◯◯◯ク◯　\n",
      "　◯◯◯◯　　◯　◯　　イ　◯◯◯◯　　◯　　◯　　　　　　◯　\n",
      "◯　　　◯　ジ◯ゴ◯　◯◯パ◯　　◯　◯　◯◯◯◯◯　◯◯◯◯　\n",
      "◯　◯　◯　　◯　ド　　　　デ　◯　ラ◯◯◯　　　　　◯　　　◯\n",
      "カ　◯◯◯ボ◯　　◯　　◯ァ◯◯◯　　◯　◯　◯　　　ノ　　　◯\n",
      "◯◯◯　プ　◯◯◯◯◯◯　　　　◯　　ッ　◯　◯◯◯◯◯　　　◯\n",
      "　　◯　　　リ　　　◯　　　　◯◯◯◯◯　ン　コ　　　◯◯◯◯◯\n",
      "　　　◯◯◯◯◯　　ド　ゴ　　ル　　　　　　　◯　◯　　　　　　\n",
      "　　　ブ　　◯　　バ◯◯◯◯　◯　◯　◯　　◯◯◯◯◯　◯　　◯\n",
      "　◯◯◯◯◯　◯　　ル　◯　　◯◯◯◯◯　　◯　　ポ　◯◯◯マ◯\n",
      "　　　◯　　◯◯シ◯　◯◯◯◯◯　◯　◯ィ◯◯　◯　　　◯　　◯\n",
      "　◯　ス　　　ド　◯　◯　◯　　　◯　ィ　　◯　◯◯◯◯◯　　◯\n",
      "　ュ　　◯メ◯◯　ー　◯　◯　◯◯◯◯　◯◯◯◯◯　　　　　　◯\n",
      "　◯　　イ　　　◯◯◯◯　タ　　◯　ク　◯　　　　　◯シ◯◯◯　\n",
      "　◯　　◯　　　◯　　◯◯◯◯　ー　◯　◯　◯◯◯　◯　◯　　　\n",
      "◯◯◯◯◯　ト◯◯◯ト　　　　◯◯◯◯◯◯　◯　　　◯　◯◯◯◯\n",
      "◯　　　　　　　◯　　　　◯◯◯　　　　　　◯　　　◯　◯　　　\n",
      "ダ　　　◯◯◯ン◯　　◯　　　◯　◯　　◯　◯サ◯◯◯　◯　　◯\n",
      "◯　　　◯　　　　◯ニ◯タ　　ー　◯◯◯◯◯　　　◯　◯　　　レ\n",
      "　　◯◯◯◯◯　サ　　ド　◯◯◯◯◯　　◯　　パ　◯　ー　　　◯\n",
      "◯　◯　◯　　カ◯◯◯◯　◯　　◯　　◯◯◯◯◯　◯　◯タ◯◯◯\n",
      "◯　◯　　◯　　◯　◯　　◯　　ツ　　◯　　　◯◯◯◯◯　◯　　\n",
      "◯ロ◯◯　◯◯ラ◯　◯　　◯　　◯　ラ◯◯◯◯　ザ　　　　◯　ミ\n",
      "◯　ノ　　◯　　　◯◯ン◯◯　◯◯◯　◯　　　◯◯◯　　　◯　◯\n",
      "　　　◯　◯◯◯　　◯　　　　◯　　　◯　　　　◯　◯　パ◯◯◯\n",
      "　◯ー◯◯◯　　　ド　◯◯◯◯◯　　　　ゼ　　◯◯◯◯ー　　　◯\n",
      "◯　　◯　　◯◯◯◯◯　　◯　　　◯◯◯◯◯　　　　◯　◯◯◯◯\n",
      "◯ジ◯◯　ロ　◯　◯　　　◯◯◯◯◯　　◯　　◯　　タ　　　◯　\n",
      "◯　　　　◯　◯　◯◯ー◯◯　　　◯　　◯◯◯◯◯　　　　　◯　\n",
      "ー　　　マ◯◯◯　　　　　◯◯◯◯　　　　　　◯　　◯◯◯◯◯　\n"
     ]
    }
   ],
   "source": [
    "for r in range(DS.shape[0]):\n",
    "    print(\"\".join(DS[r,:]))"
   ]
  },
  {
   "cell_type": "markdown",
   "metadata": {},
   "source": [
    "これをcsvに保存します。"
   ]
  },
  {
   "cell_type": "code",
   "execution_count": 78,
   "metadata": {
    "ExecuteTime": {
     "end_time": "2020-12-27T15:07:16.870279Z",
     "start_time": "2020-12-27T15:07:16.860278Z"
    }
   },
   "outputs": [],
   "source": [
    "# np.savetxt('pokemon_puzzle/default_sq.csv', S, fmt=\"%s\", delimiter=',') # マス目上のものを保存"
   ]
  },
  {
   "cell_type": "code",
   "execution_count": null,
   "metadata": {},
   "outputs": [],
   "source": []
  },
  {
   "cell_type": "code",
   "execution_count": null,
   "metadata": {},
   "outputs": [],
   "source": []
  },
  {
   "cell_type": "markdown",
   "metadata": {},
   "source": [
    "## 答え"
   ]
  },
  {
   "cell_type": "markdown",
   "metadata": {},
   "source": [
    "全て埋めたものを参考に、マス目を作ってゆきましょう。  \n",
    "順番の規則は、下に従います。  \n",
    "<ul>\n",
    "    <li>頭文字の位置に着目する</li>\n",
    "    <li>1行ずつ見てゆき、頭文字の行の番号の小さいものが番号が小さくなるように</li>\n",
    "    <li>1列ずつ見てゆき、頭文字の列の番号の小さいものが番号が小さくなるように</li>\n",
    "    <li>同行同列の場合、横書きのものが小さい方に、縦書きが大きい方に</li>\n",
    "</ul>"
   ]
  },
  {
   "cell_type": "markdown",
   "metadata": {},
   "source": [
    "これはanswer.csvに保存しています。"
   ]
  },
  {
   "cell_type": "code",
   "execution_count": 50,
   "metadata": {
    "ExecuteTime": {
     "end_time": "2020-12-27T14:07:03.048621Z",
     "start_time": "2020-12-27T14:07:03.031856Z"
    }
   },
   "outputs": [
    {
     "name": "stdout",
     "output_type": "stream",
     "text": [
      "(151, 7)\n"
     ]
    },
    {
     "data": {
      "text/html": [
       "<div>\n",
       "<style scoped>\n",
       "    .dataframe tbody tr th:only-of-type {\n",
       "        vertical-align: middle;\n",
       "    }\n",
       "\n",
       "    .dataframe tbody tr th {\n",
       "        vertical-align: top;\n",
       "    }\n",
       "\n",
       "    .dataframe thead th {\n",
       "        text-align: right;\n",
       "    }\n",
       "</style>\n",
       "<table border=\"1\" class=\"dataframe\">\n",
       "  <thead>\n",
       "    <tr style=\"text-align: right;\">\n",
       "      <th></th>\n",
       "      <th>インデックス</th>\n",
       "      <th>始点_行</th>\n",
       "      <th>始点_列</th>\n",
       "      <th>終点_行</th>\n",
       "      <th>終点_列</th>\n",
       "      <th>図鑑ナンバー</th>\n",
       "      <th>名前</th>\n",
       "    </tr>\n",
       "  </thead>\n",
       "  <tbody>\n",
       "    <tr>\n",
       "      <th>0</th>\n",
       "      <td>0</td>\n",
       "      <td>0</td>\n",
       "      <td>2</td>\n",
       "      <td>3</td>\n",
       "      <td>2</td>\n",
       "      <td>60</td>\n",
       "      <td>ニョロモ</td>\n",
       "    </tr>\n",
       "    <tr>\n",
       "      <th>1</th>\n",
       "      <td>1</td>\n",
       "      <td>0</td>\n",
       "      <td>8</td>\n",
       "      <td>0</td>\n",
       "      <td>12</td>\n",
       "      <td>100</td>\n",
       "      <td>ビリリダマ</td>\n",
       "    </tr>\n",
       "    <tr>\n",
       "      <th>2</th>\n",
       "      <td>2</td>\n",
       "      <td>0</td>\n",
       "      <td>12</td>\n",
       "      <td>4</td>\n",
       "      <td>12</td>\n",
       "      <td>101</td>\n",
       "      <td>マルマイン</td>\n",
       "    </tr>\n",
       "    <tr>\n",
       "      <th>3</th>\n",
       "      <td>3</td>\n",
       "      <td>0</td>\n",
       "      <td>15</td>\n",
       "      <td>0</td>\n",
       "      <td>19</td>\n",
       "      <td>21</td>\n",
       "      <td>オニスズメ</td>\n",
       "    </tr>\n",
       "    <tr>\n",
       "      <th>4</th>\n",
       "      <td>4</td>\n",
       "      <td>0</td>\n",
       "      <td>17</td>\n",
       "      <td>4</td>\n",
       "      <td>17</td>\n",
       "      <td>123</td>\n",
       "      <td>ストライク</td>\n",
       "    </tr>\n",
       "  </tbody>\n",
       "</table>\n",
       "</div>"
      ],
      "text/plain": [
       "   インデックス  始点_行  始点_列  終点_行  終点_列  図鑑ナンバー     名前\n",
       "0       0     0     2     3     2      60   ニョロモ\n",
       "1       1     0     8     0    12     100  ビリリダマ\n",
       "2       2     0    12     4    12     101  マルマイン\n",
       "3       3     0    15     0    19      21  オニスズメ\n",
       "4       4     0    17     4    17     123  ストライク"
      ]
     },
     "execution_count": 50,
     "metadata": {},
     "output_type": "execute_result"
    }
   ],
   "source": [
    "A=pd.read_csv(\"./answer.csv\",header=0,encoding=\"SHIFT_JIS\") # 答え\n",
    "print(A.shape)\n",
    "A.head()"
   ]
  },
  {
   "cell_type": "markdown",
   "metadata": {},
   "source": [
    "次に、これらからマス目を作成します。"
   ]
  },
  {
   "cell_type": "code",
   "execution_count": 51,
   "metadata": {
    "ExecuteTime": {
     "end_time": "2020-12-27T14:07:04.475693Z",
     "start_time": "2020-12-27T14:07:04.448686Z"
    }
   },
   "outputs": [],
   "source": [
    "AS=np.full((32,32),\"　\",dtype=object) # マス目\n",
    "\n",
    "for _,row in A.iterrows():\n",
    "    sr=row[\"始点_行\"]\n",
    "    sc=row[\"始点_列\"]\n",
    "    er=row[\"終点_行\"]\n",
    "    ec=row[\"終点_列\"]\n",
    "    \n",
    "    if sr==er:\n",
    "        AS[sr:er+1,sc:ec+1]=np.asarray(list(row[\"名前\"])).reshape(1,-1)\n",
    "    elif sc==ec:\n",
    "        AS[sr:er+1,sc:ec+1]=np.asarray(list(row[\"名前\"])).reshape(-1,1)"
   ]
  },
  {
   "cell_type": "code",
   "execution_count": 52,
   "metadata": {
    "ExecuteTime": {
     "end_time": "2020-12-27T14:07:05.530892Z",
     "start_time": "2020-12-27T14:07:05.523891Z"
    }
   },
   "outputs": [
    {
     "name": "stdout",
     "output_type": "stream",
     "text": [
      "　　ニ　　　　　ビリリダマ　　オニスズメ　ピクシー　ドードリオ　\n",
      "ピジョット　　ピ　　　　ル　　　　ト　　ミ　　ェ　　　　　　ム　\n",
      "　　ロ　　　　カ　　アズマオウ　　ライチュウ　ル　　カメックス　\n",
      "　カモネギ　　チ　サ　　イ　イーブイ　　ウ　　ダ　　　　　　タ　\n",
      "カ　　　ャ　ジュゴン　コンパン　　ク　ウ　フリーザー　ナッシー　\n",
      "ラ　タ　ロ　　ウ　ド　　　　デ　シ　ラッキー　　　　　ゾ　　　ウ\n",
      "カ　マダツボミ　　パ　　ファイヤー　　ボ　デ　レ　　　ノ　　　ツ\n",
      "ラッタ　プ　ニドランオス　　　　ド　　ッ　ィ　アーボック　　　ド\n",
      "　　マ　　　リ　　　ニ　　　　パラセクト　ン　コ　　　サイホーン\n",
      "　　　カイリュー　　ド　ゴ　　ル　　　　　　　イ　ポ　　　　　　\n",
      "　　　ブ　　ウ　　バリヤード　シ　サ　ガ　　ゴルバット　ヒ　　ケ\n",
      "　ダグトリオ　ビ　　ル　ス　　エビワラー　　ル　　ポ　ヒトデマン\n",
      "　　　プ　　ケーシイ　ベトベトン　ム　ディグダ　ヤ　　　カ　　タ\n",
      "　キ　ス　　　ド　ワ　ロ　ト　　　ラ　ィ　　ッ　ドククラゲ　　ロ\n",
      "　ュ　　カメール　ー　リ　ベ　スリープ　ニドクイン　　　　　　ス\n",
      "　ウ　　イ　　　コクーン　タ　　ザ　ク　ャ　　　　　フシギダネ　\n",
      "　コ　　ロ　　　イ　　ガルーラ　ー　リ　ー　コイル　シ　ャ　　　\n",
      "サンダース　トサキント　　　　ニドランメス　ダ　　　ギ　ラプラス\n",
      "ン　　　　　　　ン　　　　サンド　　　　　　ッ　　　バ　ド　　　\n",
      "ダ　　　ニドキング　　ド　　　リ　カ　　メ　クサイハナ　ス　　エ\n",
      "ー　　　ョ　　　　ポニータ　　ー　ブースター　　　ク　ブ　　　レ\n",
      "　　ニョロボン　サ　　ド　オムナイト　　モ　　パ　リ　ー　　　ブ\n",
      "カ　ド　ゾ　　カイリキー　コ　　シ　　モンジャラ　ュ　バタフリー\n",
      "ビ　リ　　キ　　ド　ン　　リ　　ツ　　ル　　　スリーパー　シ　　\n",
      "ゴローン　ヤドラン　グ　　ザ　　ブ　ラフレシア　ザ　　　　ギ　ミ\n",
      "ン　ノ　　タ　　　トランセル　プテラ　ォ　　　アーボ　　　ソ　ュ\n",
      "　　　ポ　ピッピ　　ー　　　　リ　　　ン　　　　ド　コ　パウワウ\n",
      "　ゴーリキー　　　ド　ペルシアン　　　　ゼ　　ユンゲラー　　　ツ\n",
      "ス　　ゴ　　マタドガス　　ャ　　　ゴローニャ　　　　ッ　ゲンガー\n",
      "ピジョン　ロ　ッ　ー　　　ワンリキー　　ガ　　ク　　タ　　　ラ　\n",
      "ア　　　　コ　ツ　スターミー　　　ス　　メノクラゲ　　　　　ガ　\n",
      "ー　　　マンキー　　　　　ズバット　　　　　　ブ　　ルージュラ　\n"
     ]
    }
   ],
   "source": [
    "for r in range(AS.shape[0]):\n",
    "    print(\"\".join(AS[r,:]))"
   ]
  },
  {
   "cell_type": "markdown",
   "metadata": {},
   "source": [
    "これを1回csvに保存します。"
   ]
  },
  {
   "cell_type": "code",
   "execution_count": 54,
   "metadata": {
    "ExecuteTime": {
     "end_time": "2020-12-27T14:20:11.488542Z",
     "start_time": "2020-12-27T14:20:11.480539Z"
    }
   },
   "outputs": [],
   "source": [
    "# np.savetxt('answer_sq.csv', S, fmt=\"%s\", delimiter=',') # マス目上のものを保存"
   ]
  },
  {
   "cell_type": "code",
   "execution_count": null,
   "metadata": {},
   "outputs": [],
   "source": []
  },
  {
   "cell_type": "code",
   "execution_count": null,
   "metadata": {},
   "outputs": [],
   "source": []
  },
  {
   "cell_type": "code",
   "execution_count": 59,
   "metadata": {
    "ExecuteTime": {
     "end_time": "2020-12-27T14:21:01.223897Z",
     "start_time": "2020-12-27T14:21:01.204893Z"
    }
   },
   "outputs": [
    {
     "data": {
      "text/plain": [
       "array([['\\u3000', '\\u3000', 'ニ', ..., 'リ', 'オ', '\\u3000'],\n",
       "       ['ピ', 'ジ', 'ョ', ..., '\\u3000', 'ム', '\\u3000'],\n",
       "       ['\\u3000', '\\u3000', 'ロ', ..., 'ク', 'ス', '\\u3000'],\n",
       "       ...,\n",
       "       ['ピ', 'ジ', 'ョ', ..., '\\u3000', 'ラ', '\\u3000'],\n",
       "       ['ア', '\\u3000', '\\u3000', ..., '\\u3000', 'ガ', '\\u3000'],\n",
       "       ['ー', '\\u3000', '\\u3000', ..., 'ュ', 'ラ', '\\u3000']], dtype='<U1')"
      ]
     },
     "execution_count": 59,
     "metadata": {},
     "output_type": "execute_result"
    }
   ],
   "source": [
    "np.loadtxt(\"answer_sq.csv\",delimiter=\",\",dtype=str)"
   ]
  },
  {
   "cell_type": "code",
   "execution_count": 33,
   "metadata": {
    "ExecuteTime": {
     "end_time": "2020-12-27T09:02:12.106926Z",
     "start_time": "2020-12-27T09:02:12.094906Z"
    }
   },
   "outputs": [
    {
     "data": {
      "text/plain": [
       "'ニョロモ'"
      ]
     },
     "execution_count": 33,
     "metadata": {},
     "output_type": "execute_result"
    }
   ],
   "source": [
    "row[\"名前\"]"
   ]
  },
  {
   "cell_type": "code",
   "execution_count": null,
   "metadata": {},
   "outputs": [],
   "source": [
    "S[A[]]"
   ]
  },
  {
   "cell_type": "code",
   "execution_count": 28,
   "metadata": {
    "ExecuteTime": {
     "end_time": "2020-12-27T09:00:15.898184Z",
     "start_time": "2020-12-27T09:00:15.883181Z"
    }
   },
   "outputs": [
    {
     "data": {
      "text/plain": [
       "インデックス       0\n",
       "始点_行         0\n",
       "始点_列         2\n",
       "終点_行         3\n",
       "終点_列         2\n",
       "図鑑ナンバー      60\n",
       "名前        ニョロモ\n",
       "Name: 0, dtype: object"
      ]
     },
     "execution_count": 28,
     "metadata": {},
     "output_type": "execute_result"
    }
   ],
   "source": [
    "A.iloc[0,:]"
   ]
  },
  {
   "cell_type": "code",
   "execution_count": 17,
   "metadata": {
    "ExecuteTime": {
     "end_time": "2020-12-27T08:49:17.765116Z",
     "start_time": "2020-12-27T08:49:17.750113Z"
    }
   },
   "outputs": [
    {
     "data": {
      "text/plain": [
       "array([['o', 'o', 'o', ..., 'o', 'o', 'o'],\n",
       "       ['o', 'o', 'o', ..., 'o', 'o', 'o'],\n",
       "       ['o', 'o', 'o', ..., 'o', 'o', 'o'],\n",
       "       ...,\n",
       "       ['o', 'o', 'o', ..., 'o', 'o', 'o'],\n",
       "       ['o', 'o', 'o', ..., 'o', 'o', 'o'],\n",
       "       ['o', 'o', 'o', ..., 'o', 'o', 'o']], dtype=object)"
      ]
     },
     "execution_count": 17,
     "metadata": {},
     "output_type": "execute_result"
    }
   ],
   "source": []
  },
  {
   "cell_type": "markdown",
   "metadata": {},
   "source": [
    "# ゴミ置き場"
   ]
  },
  {
   "cell_type": "markdown",
   "metadata": {},
   "source": [
    "## 始点、終点が正しいかどうかの確認"
   ]
  },
  {
   "cell_type": "markdown",
   "metadata": {},
   "source": [
    "始点、終点は人力で完成させました。  \n",
    "これらが正しいかどうかを確かめます。"
   ]
  },
  {
   "cell_type": "code",
   "execution_count": 76,
   "metadata": {
    "ExecuteTime": {
     "end_time": "2020-12-27T15:04:03.780204Z",
     "start_time": "2020-12-27T15:04:03.762200Z"
    }
   },
   "outputs": [],
   "source": [
    "### 文字数と始点、終点の関係を確認する\n",
    "for _,row in D.iterrows():\n",
    "    dr=row[\"終点_行\"]-row[\"始点_行\"] # 行の差\n",
    "    dc=row[\"終点_列\"]-row[\"始点_列\"] # 列の差\n",
    "    \n",
    "    if dr==(len(row[\"名前\"])-1) and dc==(len(row[\"名前\"])-1):\n",
    "        print(\"要修正: 斜め, \",row)\n",
    "    elif dr!=(len(row[\"名前\"])-1) and dc!=(len(row[\"名前\"])-1):\n",
    "        print(\"要修正: 文字数, \",row)"
   ]
  },
  {
   "cell_type": "markdown",
   "metadata": {},
   "source": [
    "何回か修正した後、特に間違いは発見されなくなりました。"
   ]
  },
  {
   "cell_type": "code",
   "execution_count": null,
   "metadata": {},
   "outputs": [],
   "source": []
  }
 ],
 "metadata": {
  "kernelspec": {
   "display_name": "Python 3",
   "language": "python",
   "name": "python3"
  },
  "language_info": {
   "codemirror_mode": {
    "name": "ipython",
    "version": 3
   },
   "file_extension": ".py",
   "mimetype": "text/x-python",
   "name": "python",
   "nbconvert_exporter": "python",
   "pygments_lexer": "ipython3",
   "version": "3.6.8"
  },
  "toc": {
   "base_numbering": 1,
   "nav_menu": {},
   "number_sections": true,
   "sideBar": true,
   "skip_h1_title": false,
   "title_cell": "Table of Contents",
   "title_sidebar": "Contents",
   "toc_cell": false,
   "toc_position": {
    "height": "calc(100% - 180px)",
    "left": "10px",
    "top": "150px",
    "width": "165px"
   },
   "toc_section_display": true,
   "toc_window_display": true
  }
 },
 "nbformat": 4,
 "nbformat_minor": 4
}
