{
 "cells": [
  {
   "cell_type": "markdown",
   "metadata": {},
   "source": [
    "本ノートブックでは、用意したデータをまとめて扱いやすい形式にします。  \n",
    "<!-- 気温データについて、時系列手法を試してみましょう。   -->\n",
    "このデータセットは気象庁のホームページ (https://www.data.jma.go.jp/gmd/risk/obsdl/index.php) から取得した、データです。\n",
    "地点は\n",
    "<ul>\n",
    "    <li>京都市</li>\n",
    "</ul>\n",
    "で、項目は\n",
    "<ul>\n",
    "    <li>1時間おきの気温</li>\n",
    "    <li>1時間おきの日照時間（前1時間）</li>\n",
    "</ul>\n",
    "で、期間は\n",
    "<ul>\n",
    "    <li>2001年1月1日-2021年6月30日</li>\n",
    "</ul>\n",
    "です。  \n",
    "データは ./dataset_kyoto_temp/ に入れています。  \n",
    "\n",
    "参考:  \n",
    "\n",
    "\n",
    "<!-- https://www.dezyre.com/recipes/run-basic-rnn-model-using-pytorch -->"
   ]
  },
  {
   "cell_type": "code",
   "execution_count": 1,
   "metadata": {
    "ExecuteTime": {
     "end_time": "2021-08-23T06:36:01.947310Z",
     "start_time": "2021-08-23T06:36:00.933101Z"
    }
   },
   "outputs": [],
   "source": [
    "from glob import glob\n",
    "import pandas as pd\n",
    "# import torch\n",
    "# import torch.nn as nn\n"
   ]
  },
  {
   "cell_type": "markdown",
   "metadata": {},
   "source": [
    "# データ"
   ]
  },
  {
   "cell_type": "markdown",
   "metadata": {},
   "source": [
    "## データセットの確認"
   ]
  },
  {
   "cell_type": "markdown",
   "metadata": {},
   "source": [
    "まずはデータセットを確認してみましょう。"
   ]
  },
  {
   "cell_type": "code",
   "execution_count": 2,
   "metadata": {
    "ExecuteTime": {
     "end_time": "2020-06-09T06:07:18.559925Z",
     "start_time": "2020-06-09T06:07:18.538236Z"
    },
    "scrolled": false
   },
   "outputs": [
    {
     "data": {
      "text/plain": [
       "['./data/temp_kyoto2000.csv',\n",
       " './data/temp_kyoto2001.csv',\n",
       " './data/temp_kyoto2002.csv',\n",
       " './data/temp_kyoto2003.csv',\n",
       " './data/temp_kyoto2004.csv',\n",
       " './data/temp_kyoto2005.csv',\n",
       " './data/temp_kyoto2006.csv',\n",
       " './data/temp_kyoto2007.csv',\n",
       " './data/temp_kyoto2008.csv',\n",
       " './data/temp_kyoto2009.csv',\n",
       " './data/temp_kyoto2010.csv',\n",
       " './data/temp_kyoto2011.csv',\n",
       " './data/temp_kyoto2012.csv',\n",
       " './data/temp_kyoto2013.csv',\n",
       " './data/temp_kyoto2014.csv',\n",
       " './data/temp_kyoto2015.csv',\n",
       " './data/temp_kyoto2016.csv',\n",
       " './data/temp_kyoto2017.csv',\n",
       " './data/temp_kyoto2018.csv',\n",
       " './data/temp_kyoto2019.csv']"
      ]
     },
     "execution_count": 2,
     "metadata": {},
     "output_type": "execute_result"
    }
   ],
   "source": [
    "sorted(glob(\"./data/*\")) # データセットの一覧"
   ]
  },
  {
   "cell_type": "markdown",
   "metadata": {},
   "source": [
    "1年分が一つのcsvファイルに入っています。  "
   ]
  },
  {
   "cell_type": "markdown",
   "metadata": {},
   "source": [
    "## データセットの読み込み"
   ]
  },
  {
   "cell_type": "markdown",
   "metadata": {},
   "source": [
    "以上2000年-2019年のデータセットをそれぞれ読み込み、一つのデータフレームにまとめます。"
   ]
  },
  {
   "cell_type": "code",
   "execution_count": 6,
   "metadata": {
    "ExecuteTime": {
     "end_time": "2020-06-09T06:08:48.079854Z",
     "start_time": "2020-06-09T06:08:47.146043Z"
    },
    "scrolled": true
   },
   "outputs": [
    {
     "name": "stdout",
     "output_type": "stream",
     "text": [
      "D.shape =  (175320, 3)\n"
     ]
    },
    {
     "data": {
      "text/html": [
       "<div>\n",
       "<style scoped>\n",
       "    .dataframe tbody tr th:only-of-type {\n",
       "        vertical-align: middle;\n",
       "    }\n",
       "\n",
       "    .dataframe tbody tr th {\n",
       "        vertical-align: top;\n",
       "    }\n",
       "\n",
       "    .dataframe thead th {\n",
       "        text-align: right;\n",
       "    }\n",
       "</style>\n",
       "<table border=\"1\" class=\"dataframe\">\n",
       "  <thead>\n",
       "    <tr style=\"text-align: right;\">\n",
       "      <th></th>\n",
       "      <th>気温</th>\n",
       "      <th>日付</th>\n",
       "      <th>時間</th>\n",
       "    </tr>\n",
       "  </thead>\n",
       "  <tbody>\n",
       "    <tr>\n",
       "      <th>0</th>\n",
       "      <td>5.2</td>\n",
       "      <td>2000/1/1</td>\n",
       "      <td>1:00:00</td>\n",
       "    </tr>\n",
       "    <tr>\n",
       "      <th>1</th>\n",
       "      <td>5.5</td>\n",
       "      <td>2000/1/1</td>\n",
       "      <td>2:00:00</td>\n",
       "    </tr>\n",
       "    <tr>\n",
       "      <th>2</th>\n",
       "      <td>5.8</td>\n",
       "      <td>2000/1/1</td>\n",
       "      <td>3:00:00</td>\n",
       "    </tr>\n",
       "    <tr>\n",
       "      <th>3</th>\n",
       "      <td>5.9</td>\n",
       "      <td>2000/1/1</td>\n",
       "      <td>4:00:00</td>\n",
       "    </tr>\n",
       "    <tr>\n",
       "      <th>4</th>\n",
       "      <td>5.7</td>\n",
       "      <td>2000/1/1</td>\n",
       "      <td>5:00:00</td>\n",
       "    </tr>\n",
       "  </tbody>\n",
       "</table>\n",
       "</div>"
      ],
      "text/plain": [
       "    気温        日付       時間\n",
       "0  5.2  2000/1/1  1:00:00\n",
       "1  5.5  2000/1/1  2:00:00\n",
       "2  5.8  2000/1/1  3:00:00\n",
       "3  5.9  2000/1/1  4:00:00\n",
       "4  5.7  2000/1/1  5:00:00"
      ]
     },
     "execution_count": 6,
     "metadata": {},
     "output_type": "execute_result"
    }
   ],
   "source": [
    "D=pd.DataFrame() # まとめたデータフレーム\n",
    "\n",
    "for y in range(2000,2020): # 各年において\n",
    "    fname=\"./data/temp_kyoto{}.csv\".format(y) # ファイル名\n",
    "    df=pd.read_csv(fname,encoding=\"SHIFT_JIS\",header=3) # データフレームに格納\n",
    "    df[[\"日付\",\"時間\"]]=df[\"Unnamed: 0\"].str.split(expand=True) # 日時を日付と時間に分割\n",
    "    df.rename({\"Unnamed: 1\":\"気温\"},inplace=True,axis=1) # 気温の項目の名前づけ\n",
    "    df.drop(columns=[\"Unnamed: 0\",u\"品質情報\",u\"均質番号\"],axis=1,inplace=True) # 不要な項目は削除\n",
    "    \n",
    "    D=pd.concat([D,df],axis=0) # 一つのデータフレームにまとめる\n",
    "    \n",
    "D.reset_index(drop=True,inplace=True) # データフレームのインデックスを整理する\n",
    "\n",
    "print(\"D.shape = \",D.shape)\n",
    "D.head()"
   ]
  },
  {
   "cell_type": "markdown",
   "metadata": {},
   "source": [
    "## データセットの分割"
   ]
  },
  {
   "cell_type": "markdown",
   "metadata": {},
   "source": [
    "データを学習用の2000年-2017年、検証用の2018年とテスト用の2019年に分割します。"
   ]
  },
  {
   "cell_type": "code",
   "execution_count": 10,
   "metadata": {
    "ExecuteTime": {
     "end_time": "2020-06-09T06:13:55.819765Z",
     "start_time": "2020-06-09T06:13:55.621819Z"
    }
   },
   "outputs": [
    {
     "name": "stdout",
     "output_type": "stream",
     "text": [
      "Dtr.shape =  (157799, 3)\n",
      "Dva.shape =  (8760, 3)\n",
      "Dte.shape =  (8760, 3)\n"
     ]
    }
   ],
   "source": [
    "Dtr=D[D[\"日付\"].str[:4]<=\"2017\"] # 学習用: 2000年-2017年\n",
    "Dva=D[D[\"日付\"].str[:4]==\"2018\"] # 検証用: 2018年\n",
    "Dte=D[D[\"日付\"].str[:4]==\"2019\"] # テスト用: 2019年\n",
    "\n",
    "print(\"Dtr.shape = \",Dtr.shape)\n",
    "print(\"Dva.shape = \",Dva.shape)\n",
    "print(\"Dte.shape = \",Dte.shape)"
   ]
  },
  {
   "cell_type": "markdown",
   "metadata": {},
   "source": [
    "# 学習の準備"
   ]
  },
  {
   "cell_type": "markdown",
   "metadata": {},
   "source": [
    "## デバイスの準備"
   ]
  },
  {
   "cell_type": "code",
   "execution_count": 65,
   "metadata": {
    "ExecuteTime": {
     "end_time": "2020-06-09T07:14:53.860544Z",
     "start_time": "2020-06-09T07:14:53.848431Z"
    }
   },
   "outputs": [
    {
     "name": "stdout",
     "output_type": "stream",
     "text": [
      "GPU is not available, CPU used\n"
     ]
    }
   ],
   "source": [
    "is_cuda=torch.cuda.is_available() # GPUが利用可能かどうか\n",
    "\n",
    "if is_cuda: # GPUを利用できる場合\n",
    "    device=torch.device(\"cuda\")\n",
    "    print(\"GPU is available\")\n",
    "else: # GPUを利用できない場合\n",
    "    device=torch.device(\"cpu\")\n",
    "    print(\"GPU is not available, CPU used\")"
   ]
  },
  {
   "cell_type": "markdown",
   "metadata": {},
   "source": [
    "## DataLoaderの準備"
   ]
  },
  {
   "cell_type": "markdown",
   "metadata": {},
   "source": [
    "まずはDataLoaderの準備をします。"
   ]
  },
  {
   "cell_type": "code",
   "execution_count": 94,
   "metadata": {
    "ExecuteTime": {
     "end_time": "2020-06-09T07:21:41.104707Z",
     "start_time": "2020-06-09T07:21:41.078492Z"
    }
   },
   "outputs": [],
   "source": [
    "batch_size=2 # バッチサイズ、2以上がよい\n",
    "\n",
    "### 学習用データセットのローダ\n",
    "loader_train=torch.utils.data.DataLoader(\n",
    "    dataset=torch.tensor(Dtr[\"気温\"].values).view(-1,1,1),\n",
    "    batch_size=batch_size,\n",
    "    shuffle=False\n",
    ")\n",
    "\n",
    "### 検証用データセットのローダ\n",
    "loader_valid=torch.utils.data.DataLoader(\n",
    "    dataset=torch.tensor(Dva[\"気温\"].values).view(-1,1,1),\n",
    "    batch_size=batch_size,\n",
    "    shuffle=False\n",
    ")\n",
    "\n",
    "### テスト用データセットのローダ\n",
    "loader_test=torch.utils.data.DataLoader(\n",
    "    dataset=torch.tensor(Dte[\"気温\"].values).view(-1,1,1),\n",
    "    batch_size=batch_size,\n",
    "    shuffle=False\n",
    ")"
   ]
  },
  {
   "cell_type": "code",
   "execution_count": null,
   "metadata": {},
   "outputs": [],
   "source": []
  },
  {
   "cell_type": "code",
   "execution_count": null,
   "metadata": {},
   "outputs": [],
   "source": []
  },
  {
   "cell_type": "markdown",
   "metadata": {},
   "source": [
    "## ネットワークの準備"
   ]
  },
  {
   "cell_type": "markdown",
   "metadata": {},
   "source": [
    "ネットワークを定義します。pytorchのLSTMを使います。パラメータを設定します。"
   ]
  },
  {
   "cell_type": "code",
   "execution_count": 77,
   "metadata": {
    "ExecuteTime": {
     "end_time": "2020-06-09T07:17:49.473847Z",
     "start_time": "2020-06-09T07:17:49.466961Z"
    }
   },
   "outputs": [],
   "source": [
    "class LSTM(nn.Module):\n",
    "    def __init__(self):\n",
    "        super(LSTM,self).__init__()\n",
    "        \n",
    "        # LSTM\n",
    "        self.lstm=nn.LSTM(\n",
    "            input_size=input_dim,\n",
    "            hidden_size=10, # 隠れ層のユニットの数\n",
    "            num_layers=1, # RNNの層の数\n",
    "            batch_first=True # 入力と出力のテンソルの第1次元はバッチサイズとなる\n",
    "        )\n",
    "        self.out=nn.Linear(10,1) # 出力層\n",
    "    \n",
    "    def forward(self,x):\n",
    "        # x.shape = (batch, time_step, input_size)\n",
    "        # r_out.shape = (batch, time_step, output_size)\n",
    "        # h_n.shape = (n_layers, batch, hidden_size)\n",
    "        # h_c.shape = (n_layers, batch, hidden_size)\n",
    "        r_out,(h_n,h_c)=self.lstm(x,None) # Noneは内部状態を0で初期化するという意味\n",
    "        \n",
    "        # 最後のステップのr_outのみ出力\n",
    "        out=self.out(r_out[:,-1,:])\n",
    "        \n",
    "        return out"
   ]
  },
  {
   "cell_type": "markdown",
   "metadata": {},
   "source": [
    "モデルを用意します。"
   ]
  },
  {
   "cell_type": "code",
   "execution_count": 78,
   "metadata": {
    "ExecuteTime": {
     "end_time": "2020-06-09T07:17:50.348909Z",
     "start_time": "2020-06-09T07:17:50.338330Z"
    }
   },
   "outputs": [
    {
     "name": "stdout",
     "output_type": "stream",
     "text": [
      "LSTM(\n",
      "  (lstm): LSTM(1, 10, batch_first=True)\n",
      "  (out): Linear(in_features=10, out_features=1, bias=True)\n",
      ")\n"
     ]
    }
   ],
   "source": [
    "lstm=LSTM() # ネットワーク\n",
    "lstm.to(device) # モデルをデバイスに送る\n",
    "print(lstm)"
   ]
  },
  {
   "cell_type": "markdown",
   "metadata": {},
   "source": [
    "## 学習の準備"
   ]
  },
  {
   "cell_type": "markdown",
   "metadata": {},
   "source": [
    "最適化の方法を設定します。"
   ]
  },
  {
   "cell_type": "code",
   "execution_count": 79,
   "metadata": {
    "ExecuteTime": {
     "end_time": "2020-06-09T07:17:51.498375Z",
     "start_time": "2020-06-09T07:17:51.492934Z"
    }
   },
   "outputs": [],
   "source": [
    "epoch=1 # エポック数\n",
    "loss_func=nn.MSELoss() # ロス関数はRMSE（Rootを計算するのはもうちょい後）\n",
    "lr=1e-5 # 学習率\n",
    "optimizer=torch.optim.Adam(lstm.parameters(),lr=lr) # 最適化関数"
   ]
  },
  {
   "cell_type": "markdown",
   "metadata": {},
   "source": [
    "# 学習"
   ]
  },
  {
   "cell_type": "markdown",
   "metadata": {},
   "source": [
    "それでは学習させます。"
   ]
  },
  {
   "cell_type": "code",
   "execution_count": 86,
   "metadata": {
    "ExecuteTime": {
     "end_time": "2020-06-09T07:18:22.653205Z",
     "start_time": "2020-06-09T07:18:22.637034Z"
    }
   },
   "outputs": [],
   "source": [
    "for ep in range(epoch):\n",
    "    ### 各エポックで学習させる\n",
    "    for step,x in enumerate(loader_train):\n",
    "        if step==1:\n",
    "            break\n",
    "        \n",
    "        output=lstm(x) # ネットワークの出力\n",
    "        \n",
    "        loss=torch.sqrt(loss_func(output.unsqueeze(2),x)) # ロスの計算\n",
    "        \n",
    "        optimizer.zero_grad() # 勾配の初期化\n",
    "        loss.backward() # 逆伝搬させる\n",
    "        optimizer.step() # 最適化する\n",
    "        \n",
    "    \n",
    "    ### 各エポックの最後に、検証用データでロスを算出する\n",
    "    lstm.eval() # モデルを評価モードに\n",
    "\n",
    "    for inp,lab in loader_valid:\n",
    "        "
   ]
  },
  {
   "cell_type": "code",
   "execution_count": null,
   "metadata": {},
   "outputs": [],
   "source": []
  }
 ],
 "metadata": {
  "kernelspec": {
   "display_name": "Python 3",
   "language": "python",
   "name": "python3"
  },
  "language_info": {
   "codemirror_mode": {
    "name": "ipython",
    "version": 3
   },
   "file_extension": ".py",
   "mimetype": "text/x-python",
   "name": "python",
   "nbconvert_exporter": "python",
   "pygments_lexer": "ipython3",
   "version": "3.9.5"
  },
  "toc": {
   "base_numbering": 1,
   "nav_menu": {},
   "number_sections": true,
   "sideBar": true,
   "skip_h1_title": false,
   "title_cell": "Table of Contents",
   "title_sidebar": "Contents",
   "toc_cell": false,
   "toc_position": {},
   "toc_section_display": true,
   "toc_window_display": false
  }
 },
 "nbformat": 4,
 "nbformat_minor": 2
}
